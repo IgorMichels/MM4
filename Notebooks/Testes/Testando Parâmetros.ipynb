{
 "cells": [
  {
   "cell_type": "markdown",
   "metadata": {},
   "source": [
    "# Variando Parâmetros Manualmente"
   ]
  },
  {
   "cell_type": "code",
   "execution_count": 1,
   "metadata": {},
   "outputs": [],
   "source": [
    "% display typeset"
   ]
  },
  {
   "cell_type": "code",
   "execution_count": 9,
   "metadata": {},
   "outputs": [],
   "source": [
    "def achaBt(t, tempos, B0, rho, method = \"r\"):\n",
    "    indice = 0\n",
    "    beta = B0\n",
    "    \n",
    "    if t <= tempos[0]:\n",
    "        if method == \"r\":\n",
    "            beta = beta * (1 - rho[indice])\n",
    "        else:\n",
    "            beta = beta * math.exp(- rho[indice] * t)\n",
    "        return beta, indice\n",
    "    \n",
    "    while t >= tempos[indice]:\n",
    "        if indice == len(tempos) - 1 or t < tempos[indice + 1]:\n",
    "            if t == tempos[indice - 1]:\n",
    "                return beta, indice\n",
    "            if method == \"r\":\n",
    "                beta = beta * (1 - rho[indice] * (t - tempos[indice - 1]) / t)\n",
    "            else:\n",
    "                beta = beta * math.exp(- rho[indice] * (t - tempos[indice]))\n",
    "                \n",
    "            return beta, indice\n",
    "        \n",
    "        else:\n",
    "            if indice == 0:\n",
    "                if method == \"r\":\n",
    "                    beta = beta * (1 - rho[indice])\n",
    "                else:\n",
    "                    beta = beta * math.exp(- rho[indice] * t)\n",
    "            else:\n",
    "                if method == \"r\":\n",
    "                    beta = beta * (1 - rho[indice] * (tempos[indice] - tempos[indice - 1]) / tempos[indice])\n",
    "                else:\n",
    "                    beta = beta * math.exp(- rho[indice] * (tempos[indice] - tempos[indice - 1]))\n",
    "            \n",
    "        indice += 1\n",
    "    "
   ]
  },
  {
   "cell_type": "code",
   "execution_count": 10,
   "metadata": {},
   "outputs": [],
   "source": [
    "def model(t, comp, params):\n",
    "    S, E, I, R, D = comp\n",
    "    B0, Ti, tempos, l_alpha, rho, l_f, method = params\n",
    "    \n",
    "    '''\n",
    "        S, E, I, R e D são os compartimentos usuais.\n",
    "        B0 é o valor inicial de beta\n",
    "        Ti é a taxa de mortalidade\n",
    "        tempos é a partição do tempo que estamos fazendo (dia inicial de cada período, sem considerar o dia 0)\n",
    "        l_alpha é o vetor de alphas para cada intervalo de tempo (são constantes)\n",
    "        rho é o vetor dos rho_k para cada intervalo de tempo (usados na função de beta)\n",
    "        l_f é o vetor de f(t) para cada intervalo de tempo (são constantes também)\n",
    "    '''\n",
    "    \n",
    "    N = S + E + I + R + D\n",
    "    \n",
    "    if t == 0:\n",
    "        beta = B0\n",
    "        ind = 0\n",
    "    else:\n",
    "        beta, ind = achaBt(t, tempos, B0, rho, method)\n",
    "        \n",
    "    alpha = l_alpha[ind]\n",
    "    f = l_f[ind]\n",
    "        \n",
    "    dS = -beta / N * S * I\n",
    "    dE = beta / N * S * I - alpha * E\n",
    "    dI = alpha * E - I / Ti\n",
    "    dR = (1 - f) / Ti * I\n",
    "    dD = f / Ti * I\n",
    "    \n",
    "    return [\n",
    "        dS,\n",
    "        dE,\n",
    "        dI,\n",
    "        dR,\n",
    "        dD\n",
    "    ]"
   ]
  },
  {
   "cell_type": "code",
   "execution_count": 11,
   "metadata": {},
   "outputs": [
    {
     "data": {
      "application/vnd.jupyter.widget-view+json": {
       "model_id": "e22c348b49e846f2b9c7cf1e4a3406a0",
       "version_major": 2,
       "version_minor": 0
      },
      "text/plain": [
       "Interactive function <function modeling at 0x6fcc45416a8> with 27 widgets\n",
       "  B0: EvalText(value='10.00000000000…"
      ]
     },
     "metadata": {},
     "output_type": "display_data"
    },
    {
     "data": {
      "text/html": [
       "<html><script type=\"math/tex; mode=display\">\\newcommand{\\Bold}[1]{\\mathbf{#1}}\\verb|<function|\\phantom{\\verb!x!}\\verb|modeling|\\phantom{\\verb!x!}\\verb|at|\\phantom{\\verb!x!}\\verb|0x6fcc45416a8>|</script></html>"
      ],
      "text/plain": [
       "<function modeling at 0x6fcc45416a8>"
      ]
     },
     "execution_count": 11,
     "metadata": {},
     "output_type": "execute_result"
    }
   ],
   "source": [
    "def modeling(B0, rho1, rho2, rho3, rho4, rho5, rho6, rho7, rho8,\n",
    "             Ti, alpha1, alpha2, alpha3, alpha4, alpha5, alpha6, alpha7, alpha8,\n",
    "             method, f1, f2, f3, f4, f5, f6, f7, f8):\n",
    "    \n",
    "    rho    = [rho1, rho2, rho3, rho4, rho5, rho6, rho7, rho8]\n",
    "    alpha  = [alpha1, alpha2, alpha3, alpha4, alpha5, alpha6, alpha7, alpha8]\n",
    "    f      = [f1, f2, f3, f4, f5, f6, f7, f8]\n",
    "    tempos = [53 - 31, 124 - 31, 166 - 31, 208 - 31, 257 - 31, 296 - 31, 314 - 31]\n",
    "    inits  = [1 - 1e-6, 0, 1e-6, 0, 0]\n",
    "    \n",
    "    T = ode_solver()\n",
    "    T.function = model\n",
    "    inits = [1 - 1e-6, 0, 1e-6, 0, 0]\n",
    "    tspan = [0, 300]\n",
    "    T.ode_solve(tspan, inits, num_points = 280, params = [B0, Ti, tempos, alpha, rho, f, method])\n",
    "    \n",
    "    model_out_0 = [(k[0], k[1][0]) for k in T.solution]\n",
    "    model_out_1 = [(k[0], k[1][1]) for k in T.solution]\n",
    "    model_out_2 = [(k[0], k[1][2]) for k in T.solution]\n",
    "    model_out_3 = [(k[0], k[1][3]) for k in T.solution]\n",
    "    model_out_4 = [(k[0], k[1][4]) for k in T.solution]\n",
    "\n",
    "    plot0 = list_plot(model_out_0, color = 'green', pointsize = 10, alpha = 1, legend_label = 'S')\n",
    "    plot1 = list_plot(model_out_1, color = 'yellow', pointsize = 10, alpha = 1, legend_label = 'E')\n",
    "    plot2 = list_plot(model_out_2, color = 'red', pointsize = 10, alpha = 1, legend_label = 'I')\n",
    "    plot3 = list_plot(model_out_3, color = 'blue', pointsize = 10, alpha = 1, legend_label = 'R')\n",
    "    plot4 = list_plot(model_out_4, color = 'black', pointsize = 10, alpha = 1, legend_label = 'D')\n",
    "\n",
    "    plot0.legend()\n",
    "    plot1.legend()\n",
    "    plot2.legend()\n",
    "    plot3.legend()\n",
    "    plot4.legend()\n",
    "\n",
    "    show(plot0 + plot1 + plot2 + plot3 + plot4)\n",
    "    \n",
    "##################################################################################################################\n",
    "\n",
    "interact(modeling,\n",
    "         B0      = input_box(10.0, type = float, label = \"B0: \"),\n",
    "         rho1    = slider([i/1000 for i in range(1, 1000)], default = 0.005, label = \"rho1: \"),\n",
    "         rho2    = slider([i/1000 for i in range(1, 1000)], default = 0.005, label = \"rho2: \"),\n",
    "         rho3    = slider([i/1000 for i in range(1, 1000)], default = 0.005, label = \"rho3: \"),\n",
    "         rho4    = slider([i/1000 for i in range(1, 1000)], default = 0.005, label = \"rho4: \"),\n",
    "         rho5    = slider([i/1000 for i in range(1, 1000)], default = 0.005, label = \"rho5: \"),\n",
    "         rho6    = slider([i/1000 for i in range(1, 1000)], default = 0.005, label = \"rho6: \"),\n",
    "         rho7    = slider([i/1000 for i in range(1, 1000)], default = 0.005, label = \"rho7: \"),\n",
    "         rho8    = slider([i/1000 for i in range(1, 1000)], default = 0.005, label = \"rho8: \"),\n",
    "         Ti      = input_box(0.1, type = float, label = \"Ti: \"),\n",
    "         alpha1  = slider([i/1000 for i in range(1, 1000)], default = 0.005, label = \"alpha1: \"),\n",
    "         alpha2  = slider([i/1000 for i in range(1, 1000)], default = 0.005, label = \"alpha2: \"),\n",
    "         alpha3  = slider([i/1000 for i in range(1, 1000)], default = 0.005, label = \"alpha3: \"),\n",
    "         alpha4  = slider([i/1000 for i in range(1, 1000)], default = 0.005, label = \"alpha4: \"),\n",
    "         alpha5  = slider([i/1000 for i in range(1, 1000)], default = 0.005, label = \"alpha5: \"),\n",
    "         alpha6  = slider([i/1000 for i in range(1, 1000)], default = 0.005, label = \"alpha6: \"),\n",
    "         alpha7  = slider([i/1000 for i in range(1, 1000)], default = 0.005, label = \"alpha7: \"),\n",
    "         alpha8  = slider([i/1000 for i in range(1, 1000)], default = 0.005, label = \"alpha8: \"),\n",
    "         method  = input_box(\"e\", type = str, label = \"Method: \"),\n",
    "         f1      = slider([i/1000 for i in range(1, 1000)], default = 0.005, label = \"f1: \"),\n",
    "         f2      = slider([i/1000 for i in range(1, 1000)], default = 0.005, label = \"f2: \"),\n",
    "         f3      = slider([i/1000 for i in range(1, 1000)], default = 0.005, label = \"f3: \"),\n",
    "         f4      = slider([i/1000 for i in range(1, 1000)], default = 0.005, label = \"f4: \"),\n",
    "         f5      = slider([i/1000 for i in range(1, 1000)], default = 0.005, label = \"f5: \"),\n",
    "         f6      = slider([i/1000 for i in range(1, 1000)], default = 0.005, label = \"f6: \"),\n",
    "         f7      = slider([i/1000 for i in range(1, 1000)], default = 0.005, label = \"f7: \"),\n",
    "         f8      = slider([i/1000 for i in range(1, 1000)], default = 0.005, label = \"f8: \")) "
   ]
  },
  {
   "cell_type": "markdown",
   "metadata": {},
   "source": [
    "# Tentando fazer passo a passo"
   ]
  },
  {
   "cell_type": "code",
   "execution_count": 5,
   "metadata": {},
   "outputs": [],
   "source": [
    "def model(t, comp, params):\n",
    "    # alpha e f fixos aqui\n",
    "    S, E, I, R, D = comp\n",
    "    beta, Ti, t0, alpha, rho, f, method = params\n",
    "    \n",
    "    '''\n",
    "        S, E, I, R e D são os compartimentos usuais.\n",
    "        B0 é o valor inicial de beta\n",
    "        Ti é a taxa de mortalidade\n",
    "        tempos é a partição do tempo que estamos fazendo (dia inicial de cada período, sem considerar o dia 0)\n",
    "        alpha é constantes\n",
    "        rho é o vetor dos rho_k para cada intervalo de tempo (usados na função de beta)\n",
    "        f é constante também\n",
    "    '''\n",
    "    \n",
    "    N = S + E + I + R + D\n",
    "    \n",
    "    if t - t0 == 0:\n",
    "        beta = B0\n",
    "    elif method == \"r\":\n",
    "        beta = B0 * (1 - rho * (t - t0) / t)\n",
    "    else:\n",
    "        beta = B0 * math.exp(- rho * (t - t0))\n",
    "        \n",
    "    dS = -beta / N * S * I\n",
    "    dE = beta / N * S * I - alpha * E\n",
    "    dI = alpha * E - I / Ti\n",
    "    dR = (1 - f) / Ti * I\n",
    "    dD = f / Ti * I\n",
    "    \n",
    "    return [\n",
    "        dS,\n",
    "        dE,\n",
    "        dI,\n",
    "        dR,\n",
    "        dD\n",
    "    ]"
   ]
  },
  {
   "cell_type": "code",
   "execution_count": 6,
   "metadata": {},
   "outputs": [],
   "source": [
    "B0 = 1000\n",
    "\n",
    "Ti = 1/14\n",
    "\n",
    "tempos = [0, 53 - 31, 124 - 31, 166 - 31, 208 - 31, 257 - 31, 296 - 31, 314 - 31]\n",
    "\n",
    "alpha = [0.40317568962288286,0.7,0.5,0.6635543291426901,0.4,0.2,0.1993560810137711]\n",
    "\n",
    "rho = [0.2697415987313351,0.5,0.3735219948032572,0.9,0.8314737743685334,0.7,0.8]\n",
    "\n",
    "f = [0.06,0.07,0.3053383696511516,0.6522739065822617,0.05,0.09,0.2469534872575344]\n",
    "\n",
    "model_out_0 = []\n",
    "model_out_1 = []\n",
    "model_out_2 = []\n",
    "model_out_3 = []\n",
    "model_out_4 = []\n",
    "method = \"r\"\n",
    "\n",
    "inits = [1 - 1e-6, 0, 1e-6, 0, 0]\n",
    "\n",
    "# indice = 0\n",
    "\n",
    "for indice in range(len(tempos) - 1):\n",
    "    if len(model_out_0) == 0:\n",
    "        inits = [1 - 1e-6, 0, 1e-6, 0, 0]\n",
    "    else:\n",
    "        inits = [model_out_0[-1][1], model_out_1[-1][1], model_out_2[-1][1], model_out_3[-1][1], model_out_4[-1][1]]\n",
    "\n",
    "\n",
    "    B0, ind = achaBt(tempos[indice], tempos, 9, rho, method)\n",
    "    T = ode_solver()\n",
    "    T.function = model\n",
    "    tspan = [tempos[indice], tempos[indice + 1]]\n",
    "    T.ode_solve(tspan, inits, num_points = tempos[indice + 1] - tempos[indice], \n",
    "                params = [B0, Ti, tempos[indice], alpha[indice], rho[indice], f[indice], method])\n",
    "\n",
    "    for k in T.solution:\n",
    "        model_out_0.append((k[0], k[1][0]))\n",
    "        model_out_1.append((k[0], k[1][1]))\n",
    "        model_out_2.append((k[0], k[1][2]))\n",
    "        model_out_3.append((k[0], k[1][3]))\n",
    "        model_out_4.append((k[0], k[1][4]))"
   ]
  },
  {
   "cell_type": "code",
   "execution_count": 7,
   "metadata": {},
   "outputs": [
    {
     "data": {
      "image/png": "[encoded data removed]",
      "text/plain": [
       "Graphics object consisting of 5 graphics primitives"
      ]
     },
     "metadata": {},
     "output_type": "display_data"
    }
   ],
   "source": [
    "plot0 = list_plot(model_out_0, color = 'green', pointsize = 10, alpha = 1, legend_label = 'S')\n",
    "plot1 = list_plot(model_out_1, color = 'yellow', pointsize = 10, alpha = 1, legend_label = 'E')\n",
    "plot2 = list_plot(model_out_2, color = 'red', pointsize = 10, alpha = 1, legend_label = 'I')\n",
    "plot3 = list_plot(model_out_3, color = 'blue', pointsize = 10, alpha = 1, legend_label = 'R')\n",
    "plot4 = list_plot(model_out_4, color = 'black', pointsize = 10, alpha = 1, legend_label = 'D')\n",
    "\n",
    "plot0.legend()\n",
    "plot1.legend()\n",
    "plot2.legend()\n",
    "plot3.legend()\n",
    "plot4.legend()\n",
    "\n",
    "show(plot0 + plot1 + plot2 + plot3 + plot4)"
   ]
  },
  {
   "cell_type": "code",
   "execution_count": null,
   "metadata": {},
   "outputs": [],
   "source": []
  },
  {
   "cell_type": "code",
   "execution_count": null,
   "metadata": {},
   "outputs": [],
   "source": []
  },
  {
   "cell_type": "code",
   "execution_count": null,
   "metadata": {},
   "outputs": [],
   "source": []
  },
  {
   "cell_type": "code",
   "execution_count": null,
   "metadata": {},
   "outputs": [],
   "source": []
  },
  {
   "cell_type": "code",
   "execution_count": null,
   "metadata": {},
   "outputs": [],
   "source": []
  },
  {
   "cell_type": "code",
   "execution_count": null,
   "metadata": {},
   "outputs": [],
   "source": []
  },
  {
   "cell_type": "code",
   "execution_count": null,
   "metadata": {},
   "outputs": [],
   "source": []
  },
  {
   "cell_type": "code",
   "execution_count": null,
   "metadata": {},
   "outputs": [],
   "source": []
  },
  {
   "cell_type": "code",
   "execution_count": null,
   "metadata": {},
   "outputs": [],
   "source": []
  },
  {
   "cell_type": "markdown",
   "metadata": {},
   "source": [
    "### Considerando até 15 intervalos de tempo"
   ]
  },
  {
   "cell_type": "code",
   "execution_count": 8,
   "metadata": {},
   "outputs": [
    {
     "data": {
      "application/vnd.jupyter.widget-view+json": {
       "model_id": "49c34661ef724492bac919ba4885180b",
       "version_major": 2,
       "version_minor": 0
      },
      "text/plain": [
       "Interactive function <function modeling at 0x6fccc0261e0> with 64 widgets\n",
       "  t_qtd: EvalText(value='8', descrip…"
      ]
     },
     "metadata": {},
     "output_type": "display_data"
    },
    {
     "data": {
      "text/html": [
       "<html><script type=\"math/tex; mode=display\">\\newcommand{\\Bold}[1]{\\mathbf{#1}}\\verb|<function|\\phantom{\\verb!x!}\\verb|modeling|\\phantom{\\verb!x!}\\verb|at|\\phantom{\\verb!x!}\\verb|0x6fccc0261e0>|</script></html>"
      ],
      "text/plain": [
       "<function modeling at 0x6fccc0261e0>"
      ]
     },
     "execution_count": 8,
     "metadata": {},
     "output_type": "execute_result"
    }
   ],
   "source": [
    "def modeling(t_qtd, t1, t2, t3, t4, t5, t6, t7, t8, t9, t10, t11, t12, t13, t14, t15,\n",
    "             B0, rho1, rho2, rho3, rho4, rho5, rho6, rho7, rho8, rho9, rho10, rho11, rho12, rho13, rho14, rho15,\n",
    "             Ti, alpha1, alpha2, alpha3, alpha4, alpha5, alpha6, alpha7, alpha8, alpha9, alpha10, alpha11, alpha12, alpha13, alpha14, alpha15,\n",
    "             method, f1, f2, f3, f4, f5, f6, f7, f8, f9, f10, f11, f12, f13, f14, f15):\n",
    "    \n",
    "    tempos = [t1, t2, t3, t4, t5, t6, t7, t8, t9, t10, t11, t12, t13, t14, t15]\n",
    "    rho    = [rho1, rho2, rho3, rho4, rho5, rho6, rho7, rho8, rho9, rho10, rho11, rho12, rho13, rho14, rho15]\n",
    "    alpha  = [alpha1, alpha2, alpha3, alpha4, alpha5, alpha6, alpha7, alpha8, alpha9, alpha10, alpha11, alpha12, alpha13, alpha14, alpha15]\n",
    "    f      = [f1, f2, f3, f4, f5, f6, f7, f8, f9, f10, f11, f12, f13, f14, f15]\n",
    "    \n",
    "    tempos = tempos[0:t_qtd]\n",
    "    rho    = rho[0:t_qtd]\n",
    "    alpha  = alpha[0:t_qtd]\n",
    "    f      = f[0:t_qtd]\n",
    "    inits  = [1 - 1e-6, 0, 1e-6, 0, 0]\n",
    "    \n",
    "    T = ode_solver()\n",
    "    T.function = model\n",
    "    inits = [1 - 1e-6, 0, 1e-6, 0, 0]\n",
    "    tspan = [0, 300]\n",
    "    T.ode_solve(tspan, inits, num_points = 280, params = [B0, Ti, tempos, alpha, rho, f, method])\n",
    "    \n",
    "    model_out_0 = [(k[0], k[1][0]) for k in T.solution]\n",
    "    model_out_1 = [(k[0], k[1][1]) for k in T.solution]\n",
    "    model_out_2 = [(k[0], k[1][2]) for k in T.solution]\n",
    "    model_out_3 = [(k[0], k[1][3]) for k in T.solution]\n",
    "    model_out_4 = [(k[0], k[1][4]) for k in T.solution]\n",
    "\n",
    "    plot0 = list_plot(model_out_0, color = 'green', pointsize = 10, alpha = 1, legend_label = 'S')\n",
    "    plot1 = list_plot(model_out_1, color = 'yellow', pointsize = 10, alpha = 1, legend_label = 'E')\n",
    "    plot2 = list_plot(model_out_2, color = 'red', pointsize = 10, alpha = 1, legend_label = 'I')\n",
    "    plot3 = list_plot(model_out_3, color = 'blue', pointsize = 10, alpha = 1, legend_label = 'R')\n",
    "    plot4 = list_plot(model_out_4, color = 'black', pointsize = 10, alpha = 1, legend_label = 'D')\n",
    "\n",
    "    plot0.legend()\n",
    "    plot1.legend()\n",
    "    plot2.legend()\n",
    "    plot3.legend()\n",
    "    plot4.legend()\n",
    "\n",
    "    show(plot0 + plot1 + plot2 + plot3 + plot4)\n",
    "    \n",
    "##################################################################################################################\n",
    "\n",
    "interact(modeling,\n",
    "         t_qtd   = input_box(8, type = int, label = \"Divisões de tempo: \"),\n",
    "         t1      = slider([i for i in range(1, 300)], default = 22, label = \"Final do t1: \"),\n",
    "         t2      = slider([i for i in range(1, 300)], default = 93, label = \"Final do t2: \"),\n",
    "         t3      = slider([i for i in range(1, 300)], default = 135, label = \"Final do t3: \"),\n",
    "         t4      = slider([i for i in range(1, 300)], default = 177, label = \"Final do t4: \"),\n",
    "         t5      = slider([i for i in range(1, 300)], default = 226, label = \"Final do t5: \"),\n",
    "         t6      = slider([i for i in range(1, 300)], default = 265, label = \"Final do t6: \"),\n",
    "         t7      = slider([i for i in range(1, 300)], default = 283, label = \"Final do t7: \"),\n",
    "         t8      = slider([i for i in range(1, 300)], default = 284, label = \"Final do t8: \"),\n",
    "         t9      = slider([i for i in range(1, 300)], default = 285, label = \"Final do t9: \"),\n",
    "         t10     = slider([i for i in range(1, 300)], default = 286, label = \"Final do t10: \"),\n",
    "         t11     = slider([i for i in range(1, 300)], default = 287, label = \"Final do t11: \"),\n",
    "         t12     = slider([i for i in range(1, 300)], default = 288, label = \"Final do t12: \"),\n",
    "         t13     = slider([i for i in range(1, 300)], default = 289, label = \"Final do t13: \"),\n",
    "         t14     = slider([i for i in range(1, 300)], default = 290, label = \"Final do t14: \"),\n",
    "         t15     = slider([i for i in range(1, 300)], default = 291, label = \"Final do t15: \"),\n",
    "         B0      = input_box(10.0, type = float, label = \"B0: \"),\n",
    "         rho1    = slider([i/100 for i in range(1, 100)], default = 0.5, label = \"rho1: \"),\n",
    "         rho2    = slider([i/100 for i in range(1, 100)], default = 0.5, label = \"rho2: \"),\n",
    "         rho3    = slider([i/100 for i in range(1, 100)], default = 0.5, label = \"rho3: \"),\n",
    "         rho4    = slider([i/100 for i in range(1, 100)], default = 0.5, label = \"rho4: \"),\n",
    "         rho5    = slider([i/100 for i in range(1, 100)], default = 0.5, label = \"rho5: \"),\n",
    "         rho6    = slider([i/100 for i in range(1, 100)], default = 0.5, label = \"rho6: \"),\n",
    "         rho7    = slider([i/100 for i in range(1, 100)], default = 0.5, label = \"rho7: \"),\n",
    "         rho8    = slider([i/100 for i in range(1, 100)], default = 0.5, label = \"rho8: \"),\n",
    "         rho9    = slider([i/100 for i in range(1, 100)], default = 0.5, label = \"rho9: \"),\n",
    "         rho10   = slider([i/100 for i in range(1, 100)], default = 0.5, label = \"rho10: \"),\n",
    "         rho11   = slider([i/100 for i in range(1, 100)], default = 0.5, label = \"rho11: \"),\n",
    "         rho12   = slider([i/100 for i in range(1, 100)], default = 0.5, label = \"rho12: \"),\n",
    "         rho13   = slider([i/100 for i in range(1, 100)], default = 0.5, label = \"rho13: \"),\n",
    "         rho14   = slider([i/100 for i in range(1, 100)], default = 0.5, label = \"rho14: \"),\n",
    "         rho15   = slider([i/100 for i in range(1, 100)], default = 0.5, label = \"rho15: \"),\n",
    "         Ti      = input_box(0.1, type = float, label = \"Ti: \"),\n",
    "         alpha1  = slider([i/100 for i in range(1, 100)], default = 0.5, label = \"alpha1: \"),\n",
    "         alpha2  = slider([i/100 for i in range(1, 100)], default = 0.5, label = \"alpha2: \"),\n",
    "         alpha3  = slider([i/100 for i in range(1, 100)], default = 0.5, label = \"alpha3: \"),\n",
    "         alpha4  = slider([i/100 for i in range(1, 100)], default = 0.5, label = \"alpha4: \"),\n",
    "         alpha5  = slider([i/100 for i in range(1, 100)], default = 0.5, label = \"alpha5: \"),\n",
    "         alpha6  = slider([i/100 for i in range(1, 100)], default = 0.5, label = \"alpha6: \"),\n",
    "         alpha7  = slider([i/100 for i in range(1, 100)], default = 0.5, label = \"alpha7: \"),\n",
    "         alpha8  = slider([i/100 for i in range(1, 100)], default = 0.5, label = \"alpha8: \"),\n",
    "         alpha9  = slider([i/100 for i in range(1, 100)], default = 0.5, label = \"alpha9: \"),\n",
    "         alpha10 = slider([i/100 for i in range(1, 100)], default = 0.5, label = \"alpha10: \"),\n",
    "         alpha11 = slider([i/100 for i in range(1, 100)], default = 0.5, label = \"alpha11: \"),\n",
    "         alpha12 = slider([i/100 for i in range(1, 100)], default = 0.5, label = \"alpha12: \"),\n",
    "         alpha13 = slider([i/100 for i in range(1, 100)], default = 0.5, label = \"alpha13: \"),\n",
    "         alpha14 = slider([i/100 for i in range(1, 100)], default = 0.5, label = \"alpha14: \"),\n",
    "         alpha15 = slider([i/100 for i in range(1, 100)], default = 0.5, label = \"alpha15: \"),\n",
    "         method  = input_box(\"e\", type = str, label = \"Method: \"),\n",
    "         f1      = slider([i/100 for i in range(1, 100)], default = 0.5, label = \"f1: \"),\n",
    "         f2      = slider([i/100 for i in range(1, 100)], default = 0.5, label = \"f2: \"),\n",
    "         f3      = slider([i/100 for i in range(1, 100)], default = 0.5, label = \"f3: \"),\n",
    "         f4      = slider([i/100 for i in range(1, 100)], default = 0.5, label = \"f4: \"),\n",
    "         f5      = slider([i/100 for i in range(1, 100)], default = 0.5, label = \"f5: \"),\n",
    "         f6      = slider([i/100 for i in range(1, 100)], default = 0.5, label = \"f6: \"),\n",
    "         f7      = slider([i/100 for i in range(1, 100)], default = 0.5, label = \"f7: \"),\n",
    "         f8      = slider([i/100 for i in range(1, 100)], default = 0.5, label = \"f8: \"),\n",
    "         f9      = slider([i/100 for i in range(1, 100)], default = 0.5, label = \"f9: \"),\n",
    "         f10     = slider([i/100 for i in range(1, 100)], default = 0.5, label = \"f10: \"),\n",
    "         f11     = slider([i/100 for i in range(1, 100)], default = 0.5, label = \"f11: \"),\n",
    "         f12     = slider([i/100 for i in range(1, 100)], default = 0.5, label = \"f12: \"),\n",
    "         f13     = slider([i/100 for i in range(1, 100)], default = 0.5, label = \"f13: \"),\n",
    "         f14     = slider([i/100 for i in range(1, 100)], default = 0.5, label = \"f14: \"),\n",
    "         f15     = slider([i/100 for i in range(1, 100)], default = 0.5, label = \"f15: \"))  "
   ]
  }
 ],
 "metadata": {
  "kernelspec": {
   "display_name": "SageMath 9.0",
   "language": "sage",
   "name": "sagemath"
  },
  "language_info": {
   "codemirror_mode": {
    "name": "ipython",
    "version": 3
   },
   "file_extension": ".py",
   "mimetype": "text/x-python",
   "name": "python",
   "nbconvert_exporter": "python",
   "pygments_lexer": "ipython3",
   "version": "3.7.3"
  }
 },
 "nbformat": 4,
 "nbformat_minor": 2
}
