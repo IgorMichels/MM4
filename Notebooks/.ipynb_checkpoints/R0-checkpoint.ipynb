{
 "cells": [
  {
   "cell_type": "code",
   "execution_count": 1,
   "metadata": {},
   "outputs": [],
   "source": [
    "%display typeset"
   ]
  },
  {
   "cell_type": "code",
   "execution_count": 2,
   "metadata": {},
   "outputs": [
    {
     "data": {
      "text/html": [
       "<html><script type=\"math/tex; mode=display\">\\newcommand{\\Bold}[1]{\\mathbf{#1}}\\left(S, E, I, R, D, \\beta, \\alpha, T, f, N\\right)</script></html>"
      ],
      "text/plain": [
       "(S, E, I, R, D, beta, alpha, T, f, N)"
      ]
     },
     "execution_count": 2,
     "metadata": {},
     "output_type": "execute_result"
    }
   ],
   "source": [
    "var('S E I R D beta alpha T f N')"
   ]
  },
  {
   "cell_type": "code",
   "execution_count": 3,
   "metadata": {},
   "outputs": [],
   "source": [
    "dsdt = -beta/N*S*I\n",
    "dedt = beta/N*S*I - alpha*E\n",
    "didt = alpha*E - 1/T*I\n",
    "drdt = (1-f)/T*I\n",
    "dddt = f/T*I\n"
   ]
  },
  {
   "cell_type": "code",
   "execution_count": 4,
   "metadata": {},
   "outputs": [
    {
     "data": {
      "text/html": [
       "<html><script type=\"math/tex; mode=display\">\\newcommand{\\Bold}[1]{\\mathbf{#1}}\\left[\\left[E = 0, I = 0, S = r_{1}\\right]\\right]</script></html>"
      ],
      "text/plain": [
       "[[E == 0, I == 0, S == r1]]"
      ]
     },
     "execution_count": 4,
     "metadata": {},
     "output_type": "execute_result"
    }
   ],
   "source": [
    "solve([dedt, didt, dsdt], [E, I, S])"
   ]
  },
  {
   "cell_type": "code",
   "execution_count": 5,
   "metadata": {},
   "outputs": [
    {
     "data": {
      "text/html": [
       "<html><script type=\"math/tex; mode=display\">\\newcommand{\\Bold}[1]{\\mathbf{#1}}\\left(\\begin{array}{rrr}\n",
       "-\\alpha & \\frac{S \\beta}{N} & \\frac{I \\beta}{N} \\\\\n",
       "\\alpha & -\\frac{1}{T} & 0 \\\\\n",
       "0 & -\\frac{S \\beta}{N} & -\\frac{I \\beta}{N}\n",
       "\\end{array}\\right)</script></html>"
      ],
      "text/plain": [
       "[   -alpha  S*beta/N  I*beta/N]\n",
       "[    alpha      -1/T         0]\n",
       "[        0 -S*beta/N -I*beta/N]"
      ]
     },
     "execution_count": 5,
     "metadata": {},
     "output_type": "execute_result"
    }
   ],
   "source": [
    "jack = jacobian([dedt, didt, dsdt], [E, I, S])\n",
    "jack"
   ]
  },
  {
   "cell_type": "code",
   "execution_count": 6,
   "metadata": {},
   "outputs": [],
   "source": [
    "F_cal = matrix([  [beta/N*S*I], [0]  ])"
   ]
  },
  {
   "cell_type": "code",
   "execution_count": 7,
   "metadata": {},
   "outputs": [],
   "source": [
    "V_cal_neg = matrix([  [alpha*E], [1/T*I]  ])"
   ]
  },
  {
   "cell_type": "code",
   "execution_count": 8,
   "metadata": {},
   "outputs": [],
   "source": [
    "V_cal_pos = matrix([  [0], [alpha*E]  ])"
   ]
  },
  {
   "cell_type": "code",
   "execution_count": 9,
   "metadata": {},
   "outputs": [],
   "source": [
    "V_cal = V_cal_neg - V_cal_pos"
   ]
  },
  {
   "cell_type": "code",
   "execution_count": 10,
   "metadata": {},
   "outputs": [],
   "source": [
    "F = jacobian(F_cal(S=N),[E,I])"
   ]
  },
  {
   "cell_type": "code",
   "execution_count": 11,
   "metadata": {},
   "outputs": [],
   "source": [
    "V = jacobian(V_cal(S=N),[E,I])"
   ]
  },
  {
   "cell_type": "code",
   "execution_count": 12,
   "metadata": {},
   "outputs": [],
   "source": [
    "M = F*V.inverse()\n",
    "M = M.simplify_full()\n",
    "M.eigenvalues()\n",
    "R0 = M[0,0].simplify_full()"
   ]
  },
  {
   "cell_type": "code",
   "execution_count": 13,
   "metadata": {},
   "outputs": [
    {
     "data": {
      "text/html": [
       "<html><script type=\"math/tex; mode=display\">\\newcommand{\\Bold}[1]{\\mathbf{#1}}T \\beta</script></html>"
      ],
      "text/plain": [
       "T*beta"
      ]
     },
     "execution_count": 13,
     "metadata": {},
     "output_type": "execute_result"
    }
   ],
   "source": [
    "R0"
   ]
  }
 ],
 "metadata": {
  "kernelspec": {
   "display_name": "SageMath 9.0",
   "language": "sage",
   "name": "sagemath"
  },
  "language_info": {
   "codemirror_mode": {
    "name": "ipython",
    "version": 3
   },
   "file_extension": ".py",
   "mimetype": "text/x-python",
   "name": "python",
   "nbconvert_exporter": "python",
   "pygments_lexer": "ipython3",
   "version": "3.7.3"
  }
 },
 "nbformat": 4,
 "nbformat_minor": 2
}
