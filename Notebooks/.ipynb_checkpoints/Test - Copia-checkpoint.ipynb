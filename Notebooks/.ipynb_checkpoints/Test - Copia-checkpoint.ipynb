{
 "cells": [
  {
   "cell_type": "code",
   "execution_count": null,
   "metadata": {},
   "outputs": [],
   "source": [
    "import numpy as np\n",
    "import pandas as pd\n",
    "%display typeset"
   ]
  },
  {
   "cell_type": "code",
   "execution_count": null,
   "metadata": {},
   "outputs": [],
   "source": [
    "def model(t, y, params):\n",
    "    S, E, I, R = y\n",
    "    B, beta, mu, eps, gamma = params\n",
    "    return [\n",
    "        B - beta * S * I - mu * S,  # dS/dt\n",
    "        beta * S * I - (eps + mu) * E,  # dE/dt\n",
    "        eps * E - (gamma + mu) * I,  # dI/dt\n",
    "        gamma * I - mu * R,  # dR/dt\n",
    "    ]\n"
   ]
  },
  {
   "cell_type": "code",
   "execution_count": null,
   "metadata": {},
   "outputs": [],
   "source": [
    "B = 0.01\n",
    "beta = 0.47272459855759813\n",
    "mu = 0.00000000000000001\n",
    "eps = 0.04168480042146949\n",
    "gamma = 0.04\n",
    "\n",
    "T = ode_solver()\n",
    "T.function = model\n",
    "inits = [.99, 0, 1e-6, 0]\n",
    "tspan = [0,500]\n",
    "T.ode_solve(tspan, inits, num_points=5, params=[B, beta, mu, eps, gamma])\n",
    "model1 = [(k[0], k[1][3]) for k in T.solution]"
   ]
  },
  {
   "cell_type": "code",
   "execution_count": null,
   "metadata": {},
   "outputs": [],
   "source": [
    "data1 = np.genfromtxt('data.csv', delimiter=',')[1:]\n",
    "data2 = [(k[0], k[1]) for k in data1]"
   ]
  },
  {
   "cell_type": "code",
   "execution_count": null,
   "metadata": {},
   "outputs": [],
   "source": [
    "plot1 = list_plot(data2, color='red', pointsize=20, legend_label='cases', alpha=1)\n",
    "plot1.legend()\n",
    "\n",
    "plot2 = list_plot(model1, color='blue', pointsize=20, legend_label='model', alpha=1)\n",
    "plot2.legend()\n",
    "\n",
    "show(plot1+plot2)"
   ]
  },
  {
   "cell_type": "code",
   "execution_count": null,
   "metadata": {},
   "outputs": [],
   "source": []
  }
 ],
 "metadata": {
  "kernelspec": {
   "display_name": "SageMath 9.0",
   "language": "sage",
   "name": "sagemath"
  },
  "language_info": {
   "codemirror_mode": {
    "name": "ipython",
    "version": 2
   },
   "file_extension": ".py",
   "mimetype": "text/x-python",
   "name": "python",
   "nbconvert_exporter": "python",
   "pygments_lexer": "ipython2",
   "version": "2.7.17"
  }
 },
 "nbformat": 4,
 "nbformat_minor": 2
}
