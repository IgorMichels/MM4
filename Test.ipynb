{
 "cells": [
  {
   "cell_type": "code",
   "execution_count": 1,
   "metadata": {},
   "outputs": [],
   "source": [
    "import numpy as np\n",
    "import pandas as pd\n",
    "%display typeset"
   ]
  },
  {
   "cell_type": "markdown",
   "metadata": {},
   "source": [
    "Nosso modelo pode ser expresso como\n",
    "\n",
    "ESCREVER MODELO\n",
    "\n",
    "$$\\begin{align}\n",
    "\\frac{dS}{dt}&=-\\lambda [(1-\\chi) S],\\\\\n",
    "\\frac{dE}{dt}&= \\lambda [(1-\\chi) S]-\\alpha E,\\\\\n",
    "\\frac{dI}{dt}&= (1-p)\\alpha E - \\delta I -\\phi I,\\\\\n",
    "\\frac{dA}{dt}&= p\\alpha E - \\gamma A,\\\\\n",
    "\\frac{dH}{dt}&= \\phi I -(\\rho+\\mu) H,\\\\\n",
    "\\frac{dR}{dt}&= \\delta I + \\rho H+\\gamma A,\n",
    "\\end{align}\n",
    "$$"
   ]
  },
  {
   "cell_type": "code",
   "execution_count": 2,
   "metadata": {},
   "outputs": [],
   "source": [
    "# teste anterior\n",
    "def model(t, y, params):\n",
    "    S, E, I, R = y\n",
    "    B, beta, mu, eps, gamma = params\n",
    "    return [\n",
    "        B - beta * S * I - mu * S,  # dS/dt\n",
    "        beta * S * I - (eps + mu) * E,  # dE/dt\n",
    "        eps * E - (gamma + mu) * I,  # dI/dt\n",
    "        gamma * I - mu * R,  # dR/dt\n",
    "    ]"
   ]
  },
  {
   "cell_type": "code",
   "execution_count": 3,
   "metadata": {},
   "outputs": [],
   "source": [
    "B = 0.01\n",
    "beta = 0.47272459855759813\n",
    "mu = 0.00000000000000001\n",
    "eps = 0.04168480042146949\n",
    "gamma = 0.04\n",
    "\n",
    "T = ode_solver()\n",
    "T.function = model\n",
    "inits = [.99, 0, 1e-6, 0]\n",
    "tspan = [0,500]\n",
    "T.ode_solve(tspan, inits, num_points=5, params=[B, beta, mu, eps, gamma])\n",
    "model1 = [(k[0], k[1][3]) for k in T.solution]"
   ]
  },
  {
   "cell_type": "code",
   "execution_count": 4,
   "metadata": {},
   "outputs": [],
   "source": [
    "data1 = np.genfromtxt('data.csv', delimiter=',')[1:]\n",
    "data2 = [(k[0], k[1]) for k in data1]"
   ]
  },
  {
   "cell_type": "code",
   "execution_count": 5,
   "metadata": {},
   "outputs": [
    {
     "data": {
      "image/png": "[encoded data removed]",
      "text/plain": [
       "Graphics object consisting of 2 graphics primitives"
      ]
     },
     "metadata": {},
     "output_type": "display_data"
    }
   ],
   "source": [
    "plot1 = list_plot(data2, color='red', pointsize=20, legend_label='cases', alpha=1)\n",
    "plot1.legend()\n",
    "\n",
    "plot2 = list_plot(model1, color='blue', pointsize=20, legend_label='model', alpha=1)\n",
    "plot2.legend()\n",
    "\n",
    "show(plot1+plot2)"
   ]
  },
  {
   "cell_type": "code",
   "execution_count": null,
   "metadata": {},
   "outputs": [],
   "source": []
  },
  {
   "cell_type": "code",
   "execution_count": 6,
   "metadata": {},
   "outputs": [],
   "source": [
    "def achaBt(tp, rho):\n",
    "    beta = [rho[-1]]\n",
    "    for tempo in range(len(tp)):\n",
    "        if tp[tempo] != 0:\n",
    "            nbeta = beta[-1]*(1 - rho[tempo]*(tp[tempo] - tp[tempo - 1])/tp[tempo])\n",
    "            beta.append(nbeta)\n",
    "    \n",
    "    return beta\n",
    "\n",
    "def model(t, y, params):\n",
    "    S, E, I, R, D = y\n",
    "    tp, alpha, rho, f, Ti = params\n",
    "    '''\n",
    "        t > 0\n",
    "        S, E, I, R e D são os compartimentos usuais.\n",
    "        tp é a partição do tempo que estamos fazendo (dia inicial de cada período)\n",
    "        alpha é o vetor de alphas para cada intervalo em tp (são constantes)\n",
    "        rho é o vetor dos rho_k para cada intervalo tp (usados na função de beta)\n",
    "            uma ideia é colocar beta(t_0) em rho[-1]\n",
    "        f é o vetor de f(t) para cada intervalo pt (são constantes também)\n",
    "        Ti é a taxa de mortalidade\n",
    "    '''\n",
    "    # criar um vetor de betas para os tempos finais de cada tp\n",
    "    beta = achaBt(tp, rho)\n",
    "    \n",
    "    indice = 0\n",
    "    while t <= tp[indice]:\n",
    "        # só para saber em qual tempo estamos\n",
    "        indice += 1\n",
    "        \n",
    "    beta = beta[indice]*(1 - rho[indice]*(t - tp[indice])/t)\n",
    "    alpha = alpha[indice]\n",
    "    ft = f[indice]\n",
    "    \n",
    "    return [\n",
    "        - beta / N * S * I,  # dS/dt\n",
    "        beta / N * S * I - alpha * E,  # dE/dt\n",
    "        alpha * E - 1 / Ti * I,  # dI/dt\n",
    "        (1 - tf) / Ti * I,  # dR/dt\n",
    "        ft / Ti * I # dD/dt\n",
    "    ]\n"
   ]
  },
  {
   "cell_type": "code",
   "execution_count": 12,
   "metadata": {},
   "outputs": [
    {
     "ename": "ValueError",
     "evalue": "error solving",
     "output_type": "error",
     "traceback": [
      "\u001b[0;31m---------------------------------------------------------------------------\u001b[0m",
      "\u001b[0;31mRuntimeError\u001b[0m                              Traceback (most recent call last)",
      "\u001b[0;32m/opt/sagemath-9.0/local/lib/python3.7/site-packages/sage/calculus/ode.pyx\u001b[0m in \u001b[0;36msage.calculus.ode.ode_solver.ode_solve (build/cythonized/sage/calculus/ode.c:6765)\u001b[0;34m()\u001b[0m\n\u001b[1;32m    554\u001b[0m                         \u001b[0;32mif\u001b[0m \u001b[0;34m(\u001b[0m\u001b[0mstatus\u001b[0m \u001b[0;34m!=\u001b[0m \u001b[0mGSL_SUCCESS\u001b[0m\u001b[0;34m)\u001b[0m\u001b[0;34m:\u001b[0m\u001b[0;34m\u001b[0m\u001b[0;34m\u001b[0m\u001b[0m\n\u001b[0;32m--> 555\u001b[0;31m                             \u001b[0;32mraise\u001b[0m \u001b[0mRuntimeError\u001b[0m\u001b[0;34m\u001b[0m\u001b[0;34m\u001b[0m\u001b[0m\n\u001b[0m\u001b[1;32m    556\u001b[0m                     \u001b[0;32mexcept\u001b[0m \u001b[0mRuntimeError\u001b[0m\u001b[0;34m:\u001b[0m\u001b[0;34m\u001b[0m\u001b[0;34m\u001b[0m\u001b[0m\n",
      "\u001b[0;31mRuntimeError\u001b[0m: ",
      "\nDuring handling of the above exception, another exception occurred:\n",
      "\u001b[0;31mValueError\u001b[0m                                Traceback (most recent call last)",
      "\u001b[0;32m<ipython-input-12-c6b83fe366c7>\u001b[0m in \u001b[0;36m<module>\u001b[0;34m()\u001b[0m\n\u001b[1;32m     14\u001b[0m \u001b[0minits\u001b[0m \u001b[0;34m=\u001b[0m \u001b[0;34m[\u001b[0m\u001b[0mRealNumber\u001b[0m\u001b[0;34m(\u001b[0m\u001b[0;34m'.99'\u001b[0m\u001b[0;34m)\u001b[0m\u001b[0;34m,\u001b[0m \u001b[0mInteger\u001b[0m\u001b[0;34m(\u001b[0m\u001b[0;36m0\u001b[0m\u001b[0;34m)\u001b[0m\u001b[0;34m,\u001b[0m \u001b[0mRealNumber\u001b[0m\u001b[0;34m(\u001b[0m\u001b[0;34m'1e-6'\u001b[0m\u001b[0;34m)\u001b[0m\u001b[0;34m,\u001b[0m \u001b[0mInteger\u001b[0m\u001b[0;34m(\u001b[0m\u001b[0;36m0\u001b[0m\u001b[0;34m)\u001b[0m\u001b[0;34m,\u001b[0m \u001b[0mInteger\u001b[0m\u001b[0;34m(\u001b[0m\u001b[0;36m0\u001b[0m\u001b[0;34m)\u001b[0m\u001b[0;34m]\u001b[0m\u001b[0;34m\u001b[0m\u001b[0;34m\u001b[0m\u001b[0m\n\u001b[1;32m     15\u001b[0m \u001b[0mtspan\u001b[0m \u001b[0;34m=\u001b[0m \u001b[0;34m[\u001b[0m\u001b[0mInteger\u001b[0m\u001b[0;34m(\u001b[0m\u001b[0;36m0\u001b[0m\u001b[0;34m)\u001b[0m\u001b[0;34m,\u001b[0m\u001b[0mInteger\u001b[0m\u001b[0;34m(\u001b[0m\u001b[0;36m500\u001b[0m\u001b[0;34m)\u001b[0m\u001b[0;34m]\u001b[0m\u001b[0;34m\u001b[0m\u001b[0;34m\u001b[0m\u001b[0m\n\u001b[0;32m---> 16\u001b[0;31m \u001b[0mT\u001b[0m\u001b[0;34m.\u001b[0m\u001b[0mode_solve\u001b[0m\u001b[0;34m(\u001b[0m\u001b[0mtspan\u001b[0m\u001b[0;34m,\u001b[0m \u001b[0minits\u001b[0m\u001b[0;34m,\u001b[0m \u001b[0mnum_points\u001b[0m\u001b[0;34m=\u001b[0m\u001b[0mInteger\u001b[0m\u001b[0;34m(\u001b[0m\u001b[0;36m5\u001b[0m\u001b[0;34m)\u001b[0m\u001b[0;34m,\u001b[0m \u001b[0mparams\u001b[0m\u001b[0;34m=\u001b[0m\u001b[0;34m[\u001b[0m\u001b[0mtp\u001b[0m\u001b[0;34m,\u001b[0m \u001b[0malpha\u001b[0m\u001b[0;34m,\u001b[0m \u001b[0mrho\u001b[0m\u001b[0;34m,\u001b[0m \u001b[0mf\u001b[0m\u001b[0;34m,\u001b[0m \u001b[0mTi\u001b[0m\u001b[0;34m]\u001b[0m\u001b[0;34m)\u001b[0m\u001b[0;34m\u001b[0m\u001b[0;34m\u001b[0m\u001b[0m\n\u001b[0m\u001b[1;32m     17\u001b[0m \u001b[0mmodel1\u001b[0m \u001b[0;34m=\u001b[0m \u001b[0;34m[\u001b[0m\u001b[0;34m(\u001b[0m\u001b[0mk\u001b[0m\u001b[0;34m[\u001b[0m\u001b[0mInteger\u001b[0m\u001b[0;34m(\u001b[0m\u001b[0;36m0\u001b[0m\u001b[0;34m)\u001b[0m\u001b[0;34m]\u001b[0m\u001b[0;34m,\u001b[0m \u001b[0mk\u001b[0m\u001b[0;34m[\u001b[0m\u001b[0mInteger\u001b[0m\u001b[0;34m(\u001b[0m\u001b[0;36m1\u001b[0m\u001b[0;34m)\u001b[0m\u001b[0;34m]\u001b[0m\u001b[0;34m[\u001b[0m\u001b[0mInteger\u001b[0m\u001b[0;34m(\u001b[0m\u001b[0;36m3\u001b[0m\u001b[0;34m)\u001b[0m\u001b[0;34m]\u001b[0m\u001b[0;34m)\u001b[0m \u001b[0;32mfor\u001b[0m \u001b[0mk\u001b[0m \u001b[0;32min\u001b[0m \u001b[0mT\u001b[0m\u001b[0;34m.\u001b[0m\u001b[0msolution\u001b[0m\u001b[0;34m]\u001b[0m\u001b[0;34m\u001b[0m\u001b[0;34m\u001b[0m\u001b[0m\n",
      "\u001b[0;32m/opt/sagemath-9.0/local/lib/python3.7/site-packages/sage/calculus/ode.pyx\u001b[0m in \u001b[0;36msage.calculus.ode.ode_solver.ode_solve (build/cythonized/sage/calculus/ode.c:6865)\u001b[0;34m()\u001b[0m\n\u001b[1;32m    560\u001b[0m                         \u001b[0msig_free\u001b[0m\u001b[0;34m(\u001b[0m\u001b[0my\u001b[0m\u001b[0;34m)\u001b[0m\u001b[0;34m\u001b[0m\u001b[0;34m\u001b[0m\u001b[0m\n\u001b[1;32m    561\u001b[0m                         \u001b[0msig_free\u001b[0m\u001b[0;34m(\u001b[0m\u001b[0mscale_abs_array\u001b[0m\u001b[0;34m)\u001b[0m\u001b[0;34m\u001b[0m\u001b[0;34m\u001b[0m\u001b[0m\n\u001b[0;32m--> 562\u001b[0;31m                         \u001b[0;32mraise\u001b[0m \u001b[0mValueError\u001b[0m\u001b[0;34m(\u001b[0m\u001b[0;34m\"error solving\"\u001b[0m\u001b[0;34m)\u001b[0m\u001b[0;34m\u001b[0m\u001b[0;34m\u001b[0m\u001b[0m\n\u001b[0m\u001b[1;32m    563\u001b[0m \u001b[0;34m\u001b[0m\u001b[0m\n\u001b[1;32m    564\u001b[0m                 \u001b[0;32mfor\u001b[0m \u001b[0mj\u001b[0m  \u001b[0;32mfrom\u001b[0m \u001b[0;36m0\u001b[0m\u001b[0;34m<=\u001b[0m\u001b[0mj\u001b[0m\u001b[0;34m<\u001b[0m\u001b[0mdim\u001b[0m\u001b[0;34m:\u001b[0m\u001b[0;34m\u001b[0m\u001b[0;34m\u001b[0m\u001b[0m\n",
      "\u001b[0;31mValueError\u001b[0m: error solving"
     ]
    }
   ],
   "source": [
    "tp = [0, 10, 30, 33, 43, 51, 59, 78, 102, 130, 143, 166, 181, 202, 228, 249, 265, 283]\n",
    "alpha = [0.07 for i in range(len(tp))]\n",
    "rho = [0.1 for i in range(len(tp))]\n",
    "f = [0.05 for i in range(len(tp))]\n",
    "Ti = 0.05\n",
    "\n",
    "'''\n",
    "    acho que esse Ti pode estar sendo repetitivo aqui, ele meio que denota a taxa de falecimento, não?\n",
    "    os tp eu fiz uma divisão +- inspirada nas ações governamentais do owid, o resto foi fixo só para ver como fica\n",
    "'''\n",
    "\n",
    "T = ode_solver()\n",
    "T.function = model\n",
    "inits = [.99, 0, 1e-6, 0, 0]\n",
    "tspan = [0,500]\n",
    "T.ode_solve(tspan, inits, num_points=5, params=[tp, alpha, rho, f, Ti])\n",
    "model1 = [(k[0], k[1][3]) for k in T.solution]"
   ]
  },
  {
   "cell_type": "code",
   "execution_count": null,
   "metadata": {},
   "outputs": [],
   "source": []
  }
 ],
 "metadata": {
  "kernelspec": {
   "display_name": "SageMath 9.0",
   "language": "sage",
   "name": "sagemath"
  },
  "language_info": {
   "codemirror_mode": {
    "name": "ipython",
    "version": 3
   },
   "file_extension": ".py",
   "mimetype": "text/x-python",
   "name": "python",
   "nbconvert_exporter": "python",
   "pygments_lexer": "ipython3",
   "version": "3.7.3"
  }
 },
 "nbformat": 4,
 "nbformat_minor": 2
}
