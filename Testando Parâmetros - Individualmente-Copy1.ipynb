{
 "cells": [
  {
   "cell_type": "markdown",
   "metadata": {},
   "source": [
    "# Tentando fazer passo a passo"
   ]
  },
  {
   "cell_type": "code",
   "execution_count": 1,
   "metadata": {},
   "outputs": [],
   "source": [
    "% display typeset\n",
    "\n",
    "import numpy as np\n",
    "import math"
   ]
  },
  {
   "cell_type": "code",
   "execution_count": 2,
   "metadata": {},
   "outputs": [],
   "source": [
    "def achaBt(t, t0, B0, rho, method = \"r\"):\n",
    "    beta = B0\n",
    "    \n",
    "    if t != t0:\n",
    "        if method == \"r\":\n",
    "            beta = beta * (1 - rho * (t - t0)/t)\n",
    "        else:\n",
    "            beta = beta * math.exp(- rho * (t - t0))\n",
    "    return beta    "
   ]
  },
  {
   "cell_type": "code",
   "execution_count": 3,
   "metadata": {},
   "outputs": [],
   "source": [
    "def model(t, comp, params):\n",
    "    # alpha e f fixos aqui\n",
    "    S, E, I, R, D, A = comp\n",
    "    B0, Ti, t0, alpha, rho, f, method = params\n",
    "    '''\n",
    "        S, E, I, R e D são os compartimentos usuais.\n",
    "        B0 é o valor inicial de beta\n",
    "        Ti é a taxa de mortalidade\n",
    "        tempos é a partição do tempo que estamos fazendo (dia inicial de cada período, sem considerar o dia 0)\n",
    "        alpha é constantes\n",
    "        rho é o vetor dos rho_k para cada intervalo de tempo (usados na função de beta)\n",
    "        f é constante também\n",
    "    '''\n",
    "    N = S + E + I + R + D\n",
    "    beta = achaBt(t, t0, B0, rho, method)\n",
    "        \n",
    "    dS = -beta / N * S * I\n",
    "    dE = beta / N * S * I - alpha * E\n",
    "    dI = alpha * E - I / Ti\n",
    "    dR = (1 - f) / Ti * I\n",
    "    dD = f / Ti * I\n",
    "    dA = alpha * E\n",
    "    \n",
    "    return [\n",
    "        dS,\n",
    "        dE,\n",
    "        dI,\n",
    "        dR,\n",
    "        dD,\n",
    "        dA\n",
    "    ]"
   ]
  },
  {
   "cell_type": "markdown",
   "metadata": {},
   "source": [
    "## Bora fazer por intervalos\n",
    "\n",
    "Usando alguns parâmetrps fixos"
   ]
  },
  {
   "cell_type": "markdown",
   "metadata": {},
   "source": [
    "### 1º intervalo"
   ]
  },
  {
   "cell_type": "code",
   "execution_count": 4,
   "metadata": {},
   "outputs": [
    {
     "name": "stderr",
     "output_type": "stream",
     "text": [
      "/opt/conda/envs/sage/lib/python3.7/site-packages/sage/plot/graphics.py:2327: MatplotlibDeprecationWarning: \n",
      "The OldScalarFormatter class was deprecated in Matplotlib 3.3 and will be removed two minor releases later.\n",
      "  x_formatter = OldScalarFormatter()\n",
      "/opt/conda/envs/sage/lib/python3.7/site-packages/sage/plot/graphics.py:2352: MatplotlibDeprecationWarning: \n",
      "The OldScalarFormatter class was deprecated in Matplotlib 3.3 and will be removed two minor releases later.\n",
      "  y_formatter = OldScalarFormatter()\n"
     ]
    },
    {
     "data": {
      "image/png": "[encoded data removed]",
      "text/plain": [
       "Graphics object consisting of 2 graphics primitives"
      ]
     },
     "metadata": {},
     "output_type": "display_data"
    }
   ],
   "source": [
    "pop   = 60461828\n",
    "B0    = 0.7\n",
    "Ti    = 1/14\n",
    "alpha = 0.40317568962288286\n",
    "rho   = 0.2697415987313351\n",
    "f     = 0.06\n",
    "\n",
    "inits = [1 - 1e-6, 0, 1e-6, 0, 0, 1e-6]\n",
    "\n",
    "model_out_0_0 = []\n",
    "model_out_1_0 = []\n",
    "model_out_2_0 = []\n",
    "model_out_3_0 = []\n",
    "model_out_4_0 = []\n",
    "model_out_5_0 = []\n",
    "method = \"r\"\n",
    "\n",
    "T = ode_solver()\n",
    "T.function = model\n",
    "tspan = [0, 22]\n",
    "T.ode_solve(tspan, inits, num_points = tspan[1] - tspan[0], \n",
    "            params = [B0, Ti, tspan[0], alpha, rho, f, method])\n",
    "\n",
    "for k in T.solution:\n",
    "    model_out_0_0.append((k[0], k[1][0]))\n",
    "    model_out_1_0.append((k[0], k[1][1]))\n",
    "    model_out_2_0.append((k[0], k[1][2]))\n",
    "    model_out_3_0.append((k[0], k[1][3]))\n",
    "    model_out_4_0.append((k[0], k[1][4]))\n",
    "    model_out_5_0.append((k[0], k[1][5]))\n",
    "\n",
    "real_data = np.genfromtxt('data.csv', delimiter=',')[1:]\n",
    "data =[]\n",
    "\n",
    "for k in real_data:\n",
    "    if tspan[0] <= k[0] <= tspan[1]:\n",
    "        data.append((k[0], k[1]/pop))\n",
    "\n",
    "plot0 = list_plot(model_out_0_0, color = 'green' , pointsize = 20, alpha = 1, legend_label = 'S')\n",
    "plot1 = list_plot(model_out_1_0, color = 'yellow', pointsize = 20, alpha = 1, legend_label = 'E')\n",
    "plot2 = list_plot(model_out_2_0, color = 'red'   , pointsize = 20, alpha = 1, legend_label = 'I')\n",
    "plot3 = list_plot(model_out_3_0, color = 'blue'  , pointsize = 20, alpha = 1, legend_label = 'R')\n",
    "plot4 = list_plot(model_out_4_0, color = 'black' , pointsize = 20, alpha = 1, legend_label = 'D')\n",
    "plot5 = list_plot(model_out_4_0, color = 'orange', pointsize = 20, alpha = 1, legend_label = 'A')\n",
    "\n",
    "plot0.legend()\n",
    "plot1.legend()\n",
    "plot2.legend()\n",
    "plot3.legend()\n",
    "plot4.legend()\n",
    "plot5.legend()\n",
    "\n",
    "plot = list_plot(data, color = 'gray', pointsize = 20, alpha = 1, legend_label = 'cases')\n",
    "plot.legend()\n",
    "\n",
    "# show(plot0 + plot1 + plot2 + plot3 + plot4)\n",
    "show(plot + plot5)"
   ]
  },
  {
   "cell_type": "markdown",
   "metadata": {},
   "source": [
    "### 2º intervalo"
   ]
  },
  {
   "cell_type": "code",
   "execution_count": 5,
   "metadata": {},
   "outputs": [
    {
     "name": "stderr",
     "output_type": "stream",
     "text": [
      "/opt/conda/envs/sage/lib/python3.7/site-packages/sage/plot/graphics.py:2327: MatplotlibDeprecationWarning: \n",
      "The OldScalarFormatter class was deprecated in Matplotlib 3.3 and will be removed two minor releases later.\n",
      "  x_formatter = OldScalarFormatter()\n",
      "/opt/conda/envs/sage/lib/python3.7/site-packages/sage/plot/graphics.py:2352: MatplotlibDeprecationWarning: \n",
      "The OldScalarFormatter class was deprecated in Matplotlib 3.3 and will be removed two minor releases later.\n",
      "  y_formatter = OldScalarFormatter()\n"
     ]
    },
    {
     "data": {
      "image/png": "[encoded data removed]",
      "text/plain": [
       "Graphics object consisting of 2 graphics primitives"
      ]
     },
     "metadata": {},
     "output_type": "display_data"
    },
    {
     "name": "stdout",
     "output_type": "stream",
     "text": [
      "[0.9999989618714406, 7.385126791012532e-12, 6.368989793616083e-13, 9.758333047068362e-07, 6.228723221533008e-08, 1.0381211738211469e-06]\n"
     ]
    }
   ],
   "source": [
    "B0    = 0.7\n",
    "Ti    = 1/14\n",
    "alpha = 0.40317568962288286\n",
    "rho   = 0.2697415987313351\n",
    "f     = 0.06\n",
    "\n",
    "inits = [model_out_0_0[-1][1], model_out_1_0[-1][1], model_out_2_0[-1][1],\n",
    "         model_out_3_0[-1][1], model_out_4_0[-1][1], model_out_5_0[-1][1]]\n",
    "\n",
    "model_out_0_1 = []\n",
    "model_out_1_1 = []\n",
    "model_out_2_1 = []\n",
    "model_out_3_1 = []\n",
    "model_out_4_1 = []\n",
    "model_out_5_1 = []\n",
    "method = \"r\"\n",
    "\n",
    "T = ode_solver()\n",
    "T.function = model\n",
    "tspan = [22, 93]\n",
    "T.ode_solve(tspan, inits, num_points = tspan[1] - tspan[0], \n",
    "            params = [B0, Ti, tspan[0], alpha, rho, f, method])\n",
    "\n",
    "for k in T.solution:\n",
    "    model_out_0_1.append((k[0], k[1][0]))\n",
    "    model_out_1_1.append((k[0], k[1][1]))\n",
    "    model_out_2_1.append((k[0], k[1][2]))\n",
    "    model_out_3_1.append((k[0], k[1][3]))\n",
    "    model_out_4_1.append((k[0], k[1][4]))\n",
    "    model_out_5_1.append((k[0], k[1][5]))\n",
    "\n",
    "real_data = np.genfromtxt('data.csv', delimiter=',')[1:]\n",
    "data =[]\n",
    "\n",
    "for k in real_data:\n",
    "    if tspan[0] <= k[0] <= tspan[1]:\n",
    "        data.append((k[0], k[1]/pop))\n",
    "\n",
    "plot0 = list_plot(model_out_0_1, color = 'green' , pointsize = 20, alpha = 1, legend_label = 'S')\n",
    "plot1 = list_plot(model_out_1_1, color = 'yellow', pointsize = 20, alpha = 1, legend_label = 'E')\n",
    "plot2 = list_plot(model_out_2_1, color = 'red'   , pointsize = 20, alpha = 1, legend_label = 'I')\n",
    "plot3 = list_plot(model_out_3_1, color = 'blue'  , pointsize = 20, alpha = 1, legend_label = 'R')\n",
    "plot4 = list_plot(model_out_4_1, color = 'black' , pointsize = 20, alpha = 1, legend_label = 'D')\n",
    "plot5 = list_plot(model_out_5_1, color = 'orange', pointsize = 20, alpha = 1, legend_label = 'A')\n",
    "\n",
    "plot0.legend()\n",
    "plot1.legend()\n",
    "plot2.legend()\n",
    "plot3.legend()\n",
    "plot4.legend()\n",
    "plot5.legend()\n",
    "\n",
    "plot = list_plot(data, color = 'gray', pointsize = 20, alpha = 1, legend_label = 'cases')\n",
    "plot.legend()\n",
    "\n",
    "# show(plot0 + plot1 + plot2 + plot3 + plot4)\n",
    "show(plot + plot5)\n",
    "\n",
    "print(inits)"
   ]
  },
  {
   "cell_type": "markdown",
   "metadata": {},
   "source": [
    "### 3º intervalo"
   ]
  },
  {
   "cell_type": "code",
   "execution_count": 6,
   "metadata": {},
   "outputs": [
    {
     "name": "stderr",
     "output_type": "stream",
     "text": [
      "/opt/conda/envs/sage/lib/python3.7/site-packages/sage/plot/graphics.py:2327: MatplotlibDeprecationWarning: \n",
      "The OldScalarFormatter class was deprecated in Matplotlib 3.3 and will be removed two minor releases later.\n",
      "  x_formatter = OldScalarFormatter()\n",
      "/opt/conda/envs/sage/lib/python3.7/site-packages/sage/plot/graphics.py:2352: MatplotlibDeprecationWarning: \n",
      "The OldScalarFormatter class was deprecated in Matplotlib 3.3 and will be removed two minor releases later.\n",
      "  y_formatter = OldScalarFormatter()\n"
     ]
    },
    {
     "data": {
      "image/png": "[encoded data removed]",
      "text/plain": [
       "Graphics object consisting of 2 graphics primitives"
      ]
     },
     "metadata": {},
     "output_type": "display_data"
    }
   ],
   "source": [
    "B0    = 0.7\n",
    "Ti    = 1/14\n",
    "alpha = 0.40317568962288286\n",
    "rho   = 0.2697415987313351\n",
    "f     = 0.06\n",
    "\n",
    "inits = [model_out_0_1[-1][1], model_out_1_1[-1][1], model_out_2_1[-1][1],\n",
    "         model_out_3_1[-1][1], model_out_4_1[-1][1], model_out_5_1[-1][1]]\n",
    "\n",
    "model_out_0_2 = []\n",
    "model_out_1_2 = []\n",
    "model_out_2_2 = []\n",
    "model_out_3_2 = []\n",
    "model_out_4_2 = []\n",
    "model_out_5_2 = []\n",
    "method = \"r\"\n",
    "\n",
    "T = ode_solver()\n",
    "T.function = model\n",
    "tspan = [93, 135]\n",
    "T.ode_solve(tspan, inits, num_points = tspan[1] - tspan[0], \n",
    "            params = [B0, Ti, tspan[0], alpha, rho, f, method])\n",
    "\n",
    "for k in T.solution:\n",
    "    model_out_0_2.append((k[0], k[1][0]))\n",
    "    model_out_1_2.append((k[0], k[1][1]))\n",
    "    model_out_2_2.append((k[0], k[1][2]))\n",
    "    model_out_3_2.append((k[0], k[1][3]))\n",
    "    model_out_4_2.append((k[0], k[1][4]))\n",
    "    model_out_5_2.append((k[0], k[1][5]))\n",
    "\n",
    "real_data = np.genfromtxt('data.csv', delimiter=',')[1:]\n",
    "data =[]\n",
    "\n",
    "for k in real_data:\n",
    "    if tspan[0] <= k[0] <= tspan[1]:\n",
    "        data.append((k[0], k[1]/pop))\n",
    "\n",
    "plot0 = list_plot(model_out_0_2, color = 'green' , pointsize = 20, alpha = 1, legend_label = 'S')\n",
    "plot1 = list_plot(model_out_1_2, color = 'yellow', pointsize = 20, alpha = 1, legend_label = 'E')\n",
    "plot2 = list_plot(model_out_2_2, color = 'red'   , pointsize = 20, alpha = 1, legend_label = 'I')\n",
    "plot3 = list_plot(model_out_3_2, color = 'blue'  , pointsize = 20, alpha = 1, legend_label = 'R')\n",
    "plot4 = list_plot(model_out_4_2, color = 'black' , pointsize = 20, alpha = 1, legend_label = 'D')\n",
    "plot5 = list_plot(model_out_5_2, color = 'orange', pointsize = 20, alpha = 1, legend_label = 'A')\n",
    "\n",
    "plot0.legend()\n",
    "plot1.legend()\n",
    "plot2.legend()\n",
    "plot3.legend()\n",
    "plot4.legend()\n",
    "plot5.legend()\n",
    "\n",
    "plot = list_plot(data, color = 'gray', pointsize = 20, alpha = 1, legend_label = 'cases')\n",
    "plot.legend()\n",
    "\n",
    "# show(plot0 + plot1 + plot2 + plot3 + plot4)\n",
    "show(plot + plot5)"
   ]
  },
  {
   "cell_type": "markdown",
   "metadata": {},
   "source": [
    "### 4º intervalo"
   ]
  },
  {
   "cell_type": "code",
   "execution_count": 7,
   "metadata": {},
   "outputs": [
    {
     "name": "stderr",
     "output_type": "stream",
     "text": [
      "/opt/conda/envs/sage/lib/python3.7/site-packages/sage/plot/graphics.py:2327: MatplotlibDeprecationWarning: \n",
      "The OldScalarFormatter class was deprecated in Matplotlib 3.3 and will be removed two minor releases later.\n",
      "  x_formatter = OldScalarFormatter()\n",
      "/opt/conda/envs/sage/lib/python3.7/site-packages/sage/plot/graphics.py:2352: MatplotlibDeprecationWarning: \n",
      "The OldScalarFormatter class was deprecated in Matplotlib 3.3 and will be removed two minor releases later.\n",
      "  y_formatter = OldScalarFormatter()\n"
     ]
    },
    {
     "data": {
      "image/png": "[encoded data removed]",
      "text/plain": [
       "Graphics object consisting of 2 graphics primitives"
      ]
     },
     "metadata": {},
     "output_type": "display_data"
    }
   ],
   "source": [
    "B0    = 0.7\n",
    "Ti    = 1/14\n",
    "alpha = 0.40317568962288286\n",
    "rho   = 0.2697415987313351\n",
    "f     = 0.06\n",
    "\n",
    "inits = [model_out_0_2[-1][1], model_out_1_2[-1][1], model_out_2_2[-1][1],\n",
    "         model_out_3_2[-1][1], model_out_4_2[-1][1], model_out_5_2[-1][1]]\n",
    "\n",
    "model_out_0_3 = []\n",
    "model_out_1_3 = []\n",
    "model_out_2_3 = []\n",
    "model_out_3_3 = []\n",
    "model_out_4_3 = []\n",
    "model_out_5_3 = []\n",
    "method = \"r\"\n",
    "\n",
    "T = ode_solver()\n",
    "T.function = model\n",
    "tspan = [135, 177]\n",
    "T.ode_solve(tspan, inits, num_points = tspan[1] - tspan[0], \n",
    "            params = [B0, Ti, tspan[0], alpha, rho, f, method])\n",
    "\n",
    "for k in T.solution:\n",
    "    model_out_0_3.append((k[0], k[1][0]))\n",
    "    model_out_1_3.append((k[0], k[1][1]))\n",
    "    model_out_2_3.append((k[0], k[1][2]))\n",
    "    model_out_3_3.append((k[0], k[1][3]))\n",
    "    model_out_4_3.append((k[0], k[1][4]))\n",
    "    model_out_5_3.append((k[0], k[1][5]))\n",
    "\n",
    "real_data = np.genfromtxt('data.csv', delimiter=',')[1:]\n",
    "data =[]\n",
    "\n",
    "for k in real_data:\n",
    "    if tspan[0] <= k[0] <= tspan[1]:\n",
    "        data.append((k[0], k[1]/pop))\n",
    "\n",
    "plot0 = list_plot(model_out_0_3, color = 'green' , pointsize = 20, alpha = 1, legend_label = 'S')\n",
    "plot1 = list_plot(model_out_1_3, color = 'yellow', pointsize = 20, alpha = 1, legend_label = 'E')\n",
    "plot2 = list_plot(model_out_2_3, color = 'red'   , pointsize = 20, alpha = 1, legend_label = 'I')\n",
    "plot3 = list_plot(model_out_3_3, color = 'blue'  , pointsize = 20, alpha = 1, legend_label = 'R')\n",
    "plot4 = list_plot(model_out_4_3, color = 'black' , pointsize = 20, alpha = 1, legend_label = 'D')\n",
    "plot5 = list_plot(model_out_5_3, color = 'orange', pointsize = 20, alpha = 1, legend_label = 'A')\n",
    "\n",
    "plot0.legend()\n",
    "plot1.legend()\n",
    "plot2.legend()\n",
    "plot3.legend()\n",
    "plot4.legend()\n",
    "plot5.legend()\n",
    "\n",
    "plot = list_plot(data, color = 'gray', pointsize = 20, alpha = 1, legend_label = 'cases')\n",
    "plot.legend()\n",
    "\n",
    "# show(plot0 + plot1 + plot2 + plot3 + plot4)\n",
    "show(plot + plot5)"
   ]
  },
  {
   "cell_type": "markdown",
   "metadata": {},
   "source": [
    "### 5º intervalo"
   ]
  },
  {
   "cell_type": "code",
   "execution_count": 8,
   "metadata": {},
   "outputs": [
    {
     "name": "stderr",
     "output_type": "stream",
     "text": [
      "/opt/conda/envs/sage/lib/python3.7/site-packages/sage/plot/graphics.py:2327: MatplotlibDeprecationWarning: \n",
      "The OldScalarFormatter class was deprecated in Matplotlib 3.3 and will be removed two minor releases later.\n",
      "  x_formatter = OldScalarFormatter()\n",
      "/opt/conda/envs/sage/lib/python3.7/site-packages/sage/plot/graphics.py:2352: MatplotlibDeprecationWarning: \n",
      "The OldScalarFormatter class was deprecated in Matplotlib 3.3 and will be removed two minor releases later.\n",
      "  y_formatter = OldScalarFormatter()\n"
     ]
    },
    {
     "data": {
      "image/png": "[encoded data removed]",
      "text/plain": [
       "Graphics object consisting of 2 graphics primitives"
      ]
     },
     "metadata": {},
     "output_type": "display_data"
    }
   ],
   "source": [
    "B0    = 0.7\n",
    "Ti    = 1/14\n",
    "alpha = 0.40317568962288286\n",
    "rho   = 0.2697415987313351\n",
    "f     = 0.06\n",
    "\n",
    "inits = [model_out_0_3[-1][1], model_out_1_3[-1][1], model_out_2_3[-1][1],\n",
    "         model_out_3_3[-1][1], model_out_4_3[-1][1], model_out_5_3[-1][1]]\n",
    "\n",
    "model_out_0_4 = []\n",
    "model_out_1_4 = []\n",
    "model_out_2_4 = []\n",
    "model_out_3_4 = []\n",
    "model_out_4_4 = []\n",
    "model_out_5_4 = []\n",
    "method = \"r\"\n",
    "\n",
    "T = ode_solver()\n",
    "T.function = model\n",
    "tspan = [177, 226]\n",
    "T.ode_solve(tspan, inits, num_points = tspan[1] - tspan[0], \n",
    "            params = [B0, Ti, tspan[0], alpha, rho, f, method])\n",
    "\n",
    "for k in T.solution:\n",
    "    model_out_0_4.append((k[0], k[1][0]))\n",
    "    model_out_1_4.append((k[0], k[1][1]))\n",
    "    model_out_2_4.append((k[0], k[1][2]))\n",
    "    model_out_3_4.append((k[0], k[1][3]))\n",
    "    model_out_4_4.append((k[0], k[1][4]))\n",
    "    model_out_5_4.append((k[0], k[1][5]))\n",
    "\n",
    "real_data = np.genfromtxt('data.csv', delimiter=',')[1:]\n",
    "data =[]\n",
    "\n",
    "for k in real_data:\n",
    "    if tspan[0] <= k[0] <= tspan[1]:\n",
    "        data.append((k[0], k[1]/pop))\n",
    "\n",
    "plot0 = list_plot(model_out_0_4, color = 'green' , pointsize = 20, alpha = 1, legend_label = 'S')\n",
    "plot1 = list_plot(model_out_1_4, color = 'yellow', pointsize = 20, alpha = 1, legend_label = 'E')\n",
    "plot2 = list_plot(model_out_2_4, color = 'red'   , pointsize = 20, alpha = 1, legend_label = 'I')\n",
    "plot3 = list_plot(model_out_3_4, color = 'blue'  , pointsize = 20, alpha = 1, legend_label = 'R')\n",
    "plot4 = list_plot(model_out_4_4, color = 'black' , pointsize = 20, alpha = 1, legend_label = 'D')\n",
    "plot5 = list_plot(model_out_5_4, color = 'orange', pointsize = 20, alpha = 1, legend_label = 'A')\n",
    "\n",
    "plot0.legend()\n",
    "plot1.legend()\n",
    "plot2.legend()\n",
    "plot3.legend()\n",
    "plot4.legend()\n",
    "plot5.legend()\n",
    "\n",
    "plot = list_plot(data, color = 'gray', pointsize = 20, alpha = 1, legend_label = 'cases')\n",
    "plot.legend()\n",
    "\n",
    "# show(plot0 + plot1 + plot2 + plot3 + plot4)\n",
    "show(plot + plot5)"
   ]
  },
  {
   "cell_type": "markdown",
   "metadata": {},
   "source": [
    "### 6º intervalo"
   ]
  },
  {
   "cell_type": "code",
   "execution_count": 9,
   "metadata": {},
   "outputs": [
    {
     "name": "stderr",
     "output_type": "stream",
     "text": [
      "/opt/conda/envs/sage/lib/python3.7/site-packages/sage/plot/graphics.py:2327: MatplotlibDeprecationWarning: \n",
      "The OldScalarFormatter class was deprecated in Matplotlib 3.3 and will be removed two minor releases later.\n",
      "  x_formatter = OldScalarFormatter()\n",
      "/opt/conda/envs/sage/lib/python3.7/site-packages/sage/plot/graphics.py:2352: MatplotlibDeprecationWarning: \n",
      "The OldScalarFormatter class was deprecated in Matplotlib 3.3 and will be removed two minor releases later.\n",
      "  y_formatter = OldScalarFormatter()\n"
     ]
    },
    {
     "data": {
      "image/png": "[encoded data removed]",
      "text/plain": [
       "Graphics object consisting of 2 graphics primitives"
      ]
     },
     "metadata": {},
     "output_type": "display_data"
    }
   ],
   "source": [
    "B0    = 0.7\n",
    "Ti    = 1/14\n",
    "alpha = 0.40317568962288286\n",
    "rho   = 0.2697415987313351\n",
    "f     = 0.06\n",
    "\n",
    "inits = [model_out_0_4[-1][1], model_out_1_4[-1][1], model_out_2_4[-1][1],\n",
    "         model_out_3_4[-1][1], model_out_4_4[-1][1], model_out_5_4[-1][1]]\n",
    "\n",
    "model_out_0_5 = []\n",
    "model_out_1_5 = []\n",
    "model_out_2_5 = []\n",
    "model_out_3_5 = []\n",
    "model_out_4_5 = []\n",
    "model_out_5_5 = []\n",
    "method = \"r\"\n",
    "\n",
    "T = ode_solver()\n",
    "T.function = model\n",
    "tspan = [226, 265]\n",
    "T.ode_solve(tspan, inits, num_points = tspan[1] - tspan[0], \n",
    "            params = [B0, Ti, tspan[0], alpha, rho, f, method])\n",
    "\n",
    "for k in T.solution:\n",
    "    model_out_0_5.append((k[0], k[1][0]))\n",
    "    model_out_1_5.append((k[0], k[1][1]))\n",
    "    model_out_2_5.append((k[0], k[1][2]))\n",
    "    model_out_3_5.append((k[0], k[1][3]))\n",
    "    model_out_4_5.append((k[0], k[1][4]))\n",
    "    model_out_5_5.append((k[0], k[1][5]))\n",
    "\n",
    "real_data = np.genfromtxt('data.csv', delimiter=',')[1:]\n",
    "data =[]\n",
    "\n",
    "for k in real_data:\n",
    "    if tspan[0] <= k[0] <= tspan[1]:\n",
    "        data.append((k[0], k[1]/pop))\n",
    "\n",
    "plot0 = list_plot(model_out_0_5, color = 'green' , pointsize = 20, alpha = 1, legend_label = 'S')\n",
    "plot1 = list_plot(model_out_1_5, color = 'yellow', pointsize = 20, alpha = 1, legend_label = 'E')\n",
    "plot2 = list_plot(model_out_2_5, color = 'red'   , pointsize = 20, alpha = 1, legend_label = 'I')\n",
    "plot3 = list_plot(model_out_3_5, color = 'blue'  , pointsize = 20, alpha = 1, legend_label = 'R')\n",
    "plot4 = list_plot(model_out_4_5, color = 'black' , pointsize = 20, alpha = 1, legend_label = 'D')\n",
    "plot5 = list_plot(model_out_5_5, color = 'orange', pointsize = 20, alpha = 1, legend_label = 'A')\n",
    "\n",
    "plot0.legend()\n",
    "plot1.legend()\n",
    "plot2.legend()\n",
    "plot3.legend()\n",
    "plot4.legend()\n",
    "plot5.legend()\n",
    "\n",
    "plot = list_plot(data, color = 'gray', pointsize = 20, alpha = 1, legend_label = 'cases')\n",
    "plot.legend()\n",
    "\n",
    "# show(plot0 + plot1 + plot2 + plot3 + plot4)\n",
    "show(plot + plot5)"
   ]
  },
  {
   "cell_type": "markdown",
   "metadata": {},
   "source": [
    "### 7º intervalo"
   ]
  },
  {
   "cell_type": "code",
   "execution_count": 10,
   "metadata": {},
   "outputs": [
    {
     "name": "stderr",
     "output_type": "stream",
     "text": [
      "/opt/conda/envs/sage/lib/python3.7/site-packages/sage/plot/graphics.py:2327: MatplotlibDeprecationWarning: \n",
      "The OldScalarFormatter class was deprecated in Matplotlib 3.3 and will be removed two minor releases later.\n",
      "  x_formatter = OldScalarFormatter()\n",
      "/opt/conda/envs/sage/lib/python3.7/site-packages/sage/plot/graphics.py:2352: MatplotlibDeprecationWarning: \n",
      "The OldScalarFormatter class was deprecated in Matplotlib 3.3 and will be removed two minor releases later.\n",
      "  y_formatter = OldScalarFormatter()\n"
     ]
    },
    {
     "data": {
      "image/png": "[encoded data removed]",
      "text/plain": [
       "Graphics object consisting of 2 graphics primitives"
      ]
     },
     "metadata": {},
     "output_type": "display_data"
    }
   ],
   "source": [
    "B0    = 0.7\n",
    "Ti    = 1/14\n",
    "alpha = 0.40317568962288286\n",
    "rho   = 0.2697415987313351\n",
    "f     = 0.06\n",
    "\n",
    "inits = [model_out_0_5[-1][1], model_out_1_5[-1][1], model_out_2_5[-1][1],\n",
    "         model_out_3_5[-1][1], model_out_4_5[-1][1], model_out_5_5[-1][1]]\n",
    "\n",
    "model_out_0_6 = []\n",
    "model_out_1_6 = []\n",
    "model_out_2_6 = []\n",
    "model_out_3_6 = []\n",
    "model_out_4_6 = []\n",
    "model_out_5_6 = []\n",
    "method = \"r\"\n",
    "\n",
    "T = ode_solver()\n",
    "T.function = model\n",
    "tspan = [265, 283]\n",
    "T.ode_solve(tspan, inits, num_points = tspan[1] - tspan[0], \n",
    "            params = [B0, Ti, tspan[0], alpha, rho, f, method])\n",
    "\n",
    "for k in T.solution:\n",
    "    model_out_0_6.append((k[0], k[1][0]))\n",
    "    model_out_1_6.append((k[0], k[1][1]))\n",
    "    model_out_2_6.append((k[0], k[1][2]))\n",
    "    model_out_3_6.append((k[0], k[1][3]))\n",
    "    model_out_4_6.append((k[0], k[1][4]))\n",
    "    model_out_5_6.append((k[0], k[1][5]))\n",
    "\n",
    "real_data = np.genfromtxt('data.csv', delimiter=',')[1:]\n",
    "data =[]\n",
    "\n",
    "for k in real_data:\n",
    "    if tspan[0] <= k[0] <= tspan[1]:\n",
    "        data.append((k[0], k[1]/pop))\n",
    "\n",
    "plot0 = list_plot(model_out_0_6, color = 'green' , pointsize = 20, alpha = 1, legend_label = 'S')\n",
    "plot1 = list_plot(model_out_1_6, color = 'yellow', pointsize = 20, alpha = 1, legend_label = 'E')\n",
    "plot2 = list_plot(model_out_2_6, color = 'red'   , pointsize = 20, alpha = 1, legend_label = 'I')\n",
    "plot3 = list_plot(model_out_3_6, color = 'blue'  , pointsize = 20, alpha = 1, legend_label = 'R')\n",
    "plot4 = list_plot(model_out_4_6, color = 'black' , pointsize = 20, alpha = 1, legend_label = 'D')\n",
    "plot5 = list_plot(model_out_5_6, color = 'orange', pointsize = 20, alpha = 1, legend_label = 'A')\n",
    "\n",
    "plot0.legend()\n",
    "plot1.legend()\n",
    "plot2.legend()\n",
    "plot3.legend()\n",
    "plot4.legend()\n",
    "plot5.legend()\n",
    "\n",
    "plot = list_plot(data, color = 'gray', pointsize = 20, alpha = 1, legend_label = 'cases')\n",
    "plot.legend()\n",
    "\n",
    "# show(plot0 + plot1 + plot2 + plot3 + plot4)\n",
    "show(plot + plot5)"
   ]
  },
  {
   "cell_type": "markdown",
   "metadata": {},
   "source": [
    "### 8º intervalo"
   ]
  },
  {
   "cell_type": "code",
   "execution_count": 11,
   "metadata": {},
   "outputs": [
    {
     "name": "stderr",
     "output_type": "stream",
     "text": [
      "/opt/conda/envs/sage/lib/python3.7/site-packages/sage/plot/graphics.py:2327: MatplotlibDeprecationWarning: \n",
      "The OldScalarFormatter class was deprecated in Matplotlib 3.3 and will be removed two minor releases later.\n",
      "  x_formatter = OldScalarFormatter()\n",
      "/opt/conda/envs/sage/lib/python3.7/site-packages/sage/plot/graphics.py:2352: MatplotlibDeprecationWarning: \n",
      "The OldScalarFormatter class was deprecated in Matplotlib 3.3 and will be removed two minor releases later.\n",
      "  y_formatter = OldScalarFormatter()\n"
     ]
    },
    {
     "data": {
      "image/png": "[encoded data removed]",
      "text/plain": [
       "Graphics object consisting of 2 graphics primitives"
      ]
     },
     "metadata": {},
     "output_type": "display_data"
    }
   ],
   "source": [
    "B0    = 0.7\n",
    "Ti    = 1/14\n",
    "alpha = 0.40317568962288286\n",
    "rho   = 0.2697415987313351\n",
    "f     = 0.06\n",
    "\n",
    "inits = [model_out_0_6[-1][1], model_out_1_6[-1][1], model_out_2_6[-1][1],\n",
    "         model_out_3_6[-1][1], model_out_4_6[-1][1], model_out_5_6[-1][1]]\n",
    "\n",
    "model_out_0_7 = []\n",
    "model_out_1_7 = []\n",
    "model_out_2_7 = []\n",
    "model_out_3_7 = []\n",
    "model_out_4_7 = []\n",
    "model_out_5_7 = []\n",
    "method = \"r\"\n",
    "\n",
    "T = ode_solver()\n",
    "T.function = model\n",
    "tspan = [283, 365]\n",
    "T.ode_solve(tspan, inits, num_points = tspan[1] - tspan[0], \n",
    "            params = [B0, Ti, tspan[0], alpha, rho, f, method])\n",
    "\n",
    "for k in T.solution:\n",
    "    model_out_0_7.append((k[0], k[1][0]))\n",
    "    model_out_1_7.append((k[0], k[1][1]))\n",
    "    model_out_2_7.append((k[0], k[1][2]))\n",
    "    model_out_3_7.append((k[0], k[1][3]))\n",
    "    model_out_4_7.append((k[0], k[1][4]))\n",
    "    model_out_5_7.append((k[0], k[1][5]))\n",
    "\n",
    "real_data = np.genfromtxt('data.csv', delimiter=',')[1:]\n",
    "data =[]\n",
    "\n",
    "for k in real_data:\n",
    "    if tspan[0] <= k[0] <= tspan[1]:\n",
    "        data.append((k[0], k[1]/pop))\n",
    "\n",
    "plot0 = list_plot(model_out_0_7, color = 'green' , pointsize = 20, alpha = 1, legend_label = 'S')\n",
    "plot1 = list_plot(model_out_1_7, color = 'yellow', pointsize = 20, alpha = 1, legend_label = 'E')\n",
    "plot2 = list_plot(model_out_2_7, color = 'red'   , pointsize = 20, alpha = 1, legend_label = 'I')\n",
    "plot3 = list_plot(model_out_3_7, color = 'blue'  , pointsize = 20, alpha = 1, legend_label = 'R')\n",
    "plot4 = list_plot(model_out_4_7, color = 'black' , pointsize = 20, alpha = 1, legend_label = 'D')\n",
    "plot5 = list_plot(model_out_5_7, color = 'orange', pointsize = 20, alpha = 1, legend_label = 'A')\n",
    "\n",
    "plot0.legend()\n",
    "plot1.legend()\n",
    "plot2.legend()\n",
    "plot3.legend()\n",
    "plot4.legend()\n",
    "plot5.legend()\n",
    "\n",
    "plot = list_plot(data, color = 'gray', pointsize = 20, alpha = 1, legend_label = 'cases')\n",
    "plot.legend()\n",
    "\n",
    "# show(plot0 + plot1 + plot2 + plot3 + plot4)\n",
    "show(plot + plot5)"
   ]
  },
  {
   "cell_type": "markdown",
   "metadata": {},
   "source": [
    "# Por interact"
   ]
  },
  {
   "cell_type": "code",
   "execution_count": 12,
   "metadata": {},
   "outputs": [
    {
     "data": {
      "application/vnd.jupyter.widget-view+json": {
       "model_id": "dceaa3330db64fd08fba7b3692c9e085",
       "version_major": 2,
       "version_minor": 0
      },
      "text/plain": [
       "Interactive function <function modeling at 0x7fd5815fd200> with 6 widgets\n",
       "  B0: EvalText(value='0.000000000000…"
      ]
     },
     "metadata": {},
     "output_type": "display_data"
    },
    {
     "data": {
      "text/html": [
       "<html><script type=\"math/tex; mode=display\">\\newcommand{\\Bold}[1]{\\mathbf{#1}}\\verb|<function|\\phantom{\\verb!x!}\\verb|modeling|\\phantom{\\verb!x!}\\verb|at|\\phantom{\\verb!x!}\\verb|0x7fd5815fd200>|</script></html>"
      ],
      "text/plain": [
       "<function modeling at 0x7fd5815fd200>"
      ]
     },
     "execution_count": 12,
     "metadata": {},
     "output_type": "execute_result"
    }
   ],
   "source": [
    "def modeling(B0, rho, Ti, alpha, f, method):\n",
    "    tspan = [0, 22]\n",
    "    inits = [1 - 1e-6, 0, 1e-6, 0, 0, 0]\n",
    "    \n",
    "    pop   = 60461828\n",
    "\n",
    "    model_out_0 = []\n",
    "    model_out_1 = []\n",
    "    model_out_2 = []\n",
    "    model_out_3 = []\n",
    "    model_out_4 = []\n",
    "    model_out_5 = []\n",
    "\n",
    "    T = ode_solver()\n",
    "    T.function = model\n",
    "    T.ode_solve(tspan, inits, num_points = tspan[1] - tspan[0], \n",
    "                params = [B0, Ti, tspan[0], alpha, rho, f, method])\n",
    "\n",
    "    for k in T.solution:\n",
    "        model_out_0.append((k[0], k[1][0]))\n",
    "        model_out_1.append((k[0], k[1][1]))\n",
    "        model_out_2.append((k[0], k[1][2]))\n",
    "        model_out_3.append((k[0], k[1][3]))\n",
    "        model_out_4.append((k[0], k[1][4]))\n",
    "        model_out_5.append((k[0], k[1][5]))\n",
    "\n",
    "    real_data = np.genfromtxt('data.csv', delimiter=',')[1:]\n",
    "    data1 = []\n",
    "    data2 = []\n",
    "\n",
    "    for k in real_data:\n",
    "        if tspan[0] <= k[0] <= tspan[1]:\n",
    "            data1.append((k[0], k[1]/pop))\n",
    "            data2.append((k[0], k[3]/pop))\n",
    "\n",
    "    plot0 = list_plot(model_out_0, color = 'green' , pointsize = 20, alpha = 1, legend_label = 'S')\n",
    "    plot1 = list_plot(model_out_1, color = 'yellow', pointsize = 20, alpha = 1, legend_label = 'E')\n",
    "    plot2 = list_plot(model_out_2, color = 'red'   , pointsize = 20, alpha = 1, legend_label = 'I')\n",
    "    plot3 = list_plot(model_out_3, color = 'blue'  , pointsize = 20, alpha = 1, legend_label = 'R')\n",
    "    plot4 = list_plot(model_out_4, color = 'black' , pointsize = 20, alpha = 1, legend_label = 'model_deaths')\n",
    "    plot5 = list_plot(model_out_4, color = 'orange', pointsize = 20, alpha = 1, legend_label = 'accumulated')\n",
    "\n",
    "    plot0.legend()\n",
    "    plot1.legend()\n",
    "    plot2.legend()\n",
    "    plot3.legend()\n",
    "    plot4.legend()\n",
    "    plot5.legend()\n",
    "\n",
    "    plot_cases  = list_plot(data1, color = 'red' , pointsize = 20, alpha = 1, legend_label = 'cases')\n",
    "    plot_deaths = list_plot(data2, color = 'gray', pointsize = 20, alpha = 1, legend_label = 'deaths')\n",
    "    plot_cases.legend()\n",
    "    plot_deaths.legend()\n",
    "\n",
    "    # show(plot0 + plot1 + plot2 + plot3 + plot4)\n",
    "    show(plot_cases + plot5)\n",
    "    show(plot_deaths + plot4)\n",
    "    \n",
    "    new_inits = [model_out_0_0[-1][1], model_out_1_0[-1][1], model_out_2_0[-1][1],\n",
    "                 model_out_3_0[-1][1], model_out_4_0[-1][1], model_out_5_0[-1][1]]\n",
    "    \n",
    "    print(new_inits)\n",
    "    \n",
    "interact(modeling,\n",
    "         B0      = input_box(0.0, type = float, label = \"B0: \"),\n",
    "         rho     = slider([i/1000 for i in range(1, 1000)], default = 0.005, label = \"rho: \"),\n",
    "         Ti      = slider([i for i in range(1, 30)],        default = 10,    label = \"Ti: \"),\n",
    "         alpha   = slider([i/1000 for i in range(0, 1000)], default = 0.005, label = \"alpha: \"),\n",
    "         f       = slider([i/1000 for i in range(1, 1000)], default = 0.005, label = \"f: \"),\n",
    "         method  = input_box(\"r\", type = str, label = \"Method: \"))"
   ]
  },
  {
   "cell_type": "code",
   "execution_count": 13,
   "metadata": {},
   "outputs": [
    {
     "data": {
      "application/vnd.jupyter.widget-view+json": {
       "model_id": "9cc74edf770547fba922abee81da5191",
       "version_major": 2,
       "version_minor": 0
      },
      "text/plain": [
       "Interactive function <function modeling at 0x7fd576798b00> with 6 widgets\n",
       "  B0: EvalText(value='2.000000000000…"
      ]
     },
     "metadata": {},
     "output_type": "display_data"
    },
    {
     "data": {
      "text/html": [
       "<html><script type=\"math/tex; mode=display\">\\newcommand{\\Bold}[1]{\\mathbf{#1}}\\verb|<function|\\phantom{\\verb!x!}\\verb|modeling|\\phantom{\\verb!x!}\\verb|at|\\phantom{\\verb!x!}\\verb|0x7fd576798b00>|</script></html>"
      ],
      "text/plain": [
       "<function modeling at 0x7fd576798b00>"
      ]
     },
     "execution_count": 13,
     "metadata": {},
     "output_type": "execute_result"
    }
   ],
   "source": [
    "def modeling(B0, rho, Ti, alpha, f, method):\n",
    "    tspan = [22, 93]\n",
    "    inits = [0.9999989618714406, 7.385126791012532e-12, 6.368989793616083e-13,\n",
    "             9.758333047068362e-07, 6.228723221533008e-08, 1.0381211738211469e-06]\n",
    "#     inits = [0.999999, 0.0, 1.1080315606593386e-07, 8.883076470901317e-07, 8.89196843934066e-10, 0.0]\n",
    "    \n",
    "    \n",
    "    pop   = 60461828\n",
    "\n",
    "    model_out_0 = []\n",
    "    model_out_1 = []\n",
    "    model_out_2 = []\n",
    "    model_out_3 = []\n",
    "    model_out_4 = []\n",
    "    model_out_5 = []\n",
    "\n",
    "    T = ode_solver()\n",
    "    T.function = model\n",
    "    T.ode_solve(tspan, inits, num_points = tspan[1] - tspan[0], \n",
    "                params = [B0, Ti, tspan[0], alpha, rho, f, method])\n",
    "\n",
    "    for k in T.solution:\n",
    "        model_out_0.append((k[0], k[1][0]))\n",
    "        model_out_1.append((k[0], k[1][1]))\n",
    "        model_out_2.append((k[0], k[1][2]))\n",
    "        model_out_3.append((k[0], k[1][3]))\n",
    "        model_out_4.append((k[0], k[1][4]))\n",
    "        model_out_5.append((k[0], k[1][5]))\n",
    "\n",
    "    real_data = np.genfromtxt('data.csv', delimiter=',')[1:]\n",
    "    data1 = []\n",
    "    data2 = []\n",
    "\n",
    "    for k in real_data:\n",
    "        if tspan[0] <= k[0] <= tspan[1]:\n",
    "            data1.append((k[0], k[1]/pop))\n",
    "            data2.append((k[0], k[3]/pop))\n",
    "\n",
    "    plot0 = list_plot(model_out_0_0, color = 'green' , pointsize = 20, alpha = 1, legend_label = 'S')\n",
    "    plot1 = list_plot(model_out_1_0, color = 'yellow', pointsize = 20, alpha = 1, legend_label = 'E')\n",
    "    plot2 = list_plot(model_out_2_0, color = 'red'   , pointsize = 20, alpha = 1, legend_label = 'I')\n",
    "    plot3 = list_plot(model_out_3_0, color = 'blue'  , pointsize = 20, alpha = 1, legend_label = 'R')\n",
    "    plot4 = list_plot(model_out_4_0, color = 'black' , pointsize = 20, alpha = 1, legend_label = 'model_deaths')\n",
    "    plot5 = list_plot(model_out_4_0, color = 'orange', pointsize = 20, alpha = 1, legend_label = 'accumulated')\n",
    "\n",
    "    plot0.legend()\n",
    "    plot1.legend()\n",
    "    plot2.legend()\n",
    "    plot3.legend()\n",
    "    plot4.legend()\n",
    "    plot5.legend()\n",
    "\n",
    "    plot_cases  = list_plot(data1, color = 'red' , pointsize = 20, alpha = 1, legend_label = 'cases')\n",
    "    plot_deaths = list_plot(data2, color = 'gray', pointsize = 20, alpha = 1, legend_label = 'deaths')\n",
    "    plot_cases.legend()\n",
    "    plot_deaths.legend()\n",
    "\n",
    "    # show(plot0 + plot1 + plot2 + plot3 + plot4)\n",
    "    show(plot_cases + plot5)\n",
    "    show(plot_deaths + plot4)\n",
    "    \n",
    "    new_inits = [model_out_0[-1][1], model_out_1[-1][1], model_out_2[-1][1],\n",
    "                 model_out_3[-1][1], model_out_4[-1][1], model_out_5[-1][1]]\n",
    "    \n",
    "    print(T.solution[-1][0], new_inits)\n",
    "    \n",
    "interact(modeling,\n",
    "         B0      = input_box(2.0, type = float, label = \"B0: \"),\n",
    "         rho     = slider([i/1000 for i in range(1, 1000)], default = 0.372, label = \"rho: \"),\n",
    "         Ti      = slider([i for i in range(1, 30)],        default = 3,     label = \"Ti: \"),\n",
    "         alpha   = slider([i/1000 for i in range(0, 1000)], default = 0.306, label = \"alpha: \"),\n",
    "         f       = slider([i/1000 for i in range(1, 1000)], default = 0.005, label = \"f: \"),\n",
    "         method  = input_box(\"r\", type = str, label = \"Method: \"))"
   ]
  },
  {
   "cell_type": "code",
   "execution_count": 14,
   "metadata": {},
   "outputs": [
    {
     "data": {
      "application/vnd.jupyter.widget-view+json": {
       "model_id": "4b6c4459193d47d395b03872474270c8",
       "version_major": 2,
       "version_minor": 0
      },
      "text/plain": [
       "Interactive function <function modeling at 0x7fd5765628c0> with 6 widgets\n",
       "  B0: EvalText(value='2.000000000000…"
      ]
     },
     "metadata": {},
     "output_type": "display_data"
    },
    {
     "data": {
      "text/html": [
       "<html><script type=\"math/tex; mode=display\">\\newcommand{\\Bold}[1]{\\mathbf{#1}}\\verb|<function|\\phantom{\\verb!x!}\\verb|modeling|\\phantom{\\verb!x!}\\verb|at|\\phantom{\\verb!x!}\\verb|0x7fd5765628c0>|</script></html>"
      ],
      "text/plain": [
       "<function modeling at 0x7fd5765628c0>"
      ]
     },
     "execution_count": 14,
     "metadata": {},
     "output_type": "execute_result"
    }
   ],
   "source": [
    "def modeling(B0, rho, Ti, alpha, f, method):\n",
    "    tspan = [93, 135]\n",
    "#     inits = [0.2059083754219156, 0.23520278416516177, 0.19315672184496419,\n",
    "#              0.3639034008784889, 0.0018287176894693218, 0.5588888404129223]\n",
    "\n",
    "    inits = [0.2059083754219156, 0.23520278416516177, 0.19315672184496419,\n",
    "             0.3639034008784889, 0.0018287176894693218, 0.5588888404129223]\n",
    "    \n",
    "    pop   = 60461828\n",
    "\n",
    "    model_out_0 = []\n",
    "    model_out_1 = []\n",
    "    model_out_2 = []\n",
    "    model_out_3 = []\n",
    "    model_out_4 = []\n",
    "    model_out_5 = []\n",
    "\n",
    "    T = ode_solver()\n",
    "    T.function = model\n",
    "    T.ode_solve(tspan, inits, num_points = tspan[1] - tspan[0], \n",
    "                params = [B0, Ti, tspan[0], alpha, rho, f, method])\n",
    "    \n",
    "    for k in T.solution:\n",
    "        model_out_0.append((k[0], k[1][0]))\n",
    "        model_out_1.append((k[0], k[1][1]))\n",
    "        model_out_2.append((k[0], k[1][2]))\n",
    "        model_out_3.append((k[0], k[1][3]))\n",
    "        model_out_4.append((k[0], k[1][4]))\n",
    "        model_out_5.append((k[0], k[1][5]))\n",
    "\n",
    "    real_data = np.genfromtxt('data.csv', delimiter=',')[1:]\n",
    "    data1 = []\n",
    "    data2 = []\n",
    "    for k in real_data:\n",
    "        if tspan[0] <= k[0] <= tspan[1]:\n",
    "            data1.append((k[0], k[1]/pop))\n",
    "            data2.append((k[0], k[3]/pop))\n",
    "\n",
    "    plot0 = list_plot(model_out_0, color = 'green' , pointsize = 20, alpha = 1, legend_label = 'S')\n",
    "    plot1 = list_plot(model_out_1, color = 'yellow', pointsize = 20, alpha = 1, legend_label = 'E')\n",
    "    plot2 = list_plot(model_out_2, color = 'red'   , pointsize = 20, alpha = 1, legend_label = 'I')\n",
    "    plot3 = list_plot(model_out_3, color = 'blue'  , pointsize = 20, alpha = 1, legend_label = 'R')\n",
    "    plot4 = list_plot(model_out_4, color = 'black' , pointsize = 20, alpha = 1, legend_label = 'model_deaths')\n",
    "    plot5 = list_plot(model_out_4, color = 'orange', pointsize = 20, alpha = 1, legend_label = 'accumulated')\n",
    "\n",
    "    plot0.legend()\n",
    "    plot1.legend()\n",
    "    plot2.legend()\n",
    "    plot3.legend()\n",
    "    plot4.legend()\n",
    "    plot5.legend()\n",
    "\n",
    "    plot_cases  = list_plot(data1, color = 'red' , pointsize = 20, alpha = 1, legend_label = 'cases')\n",
    "    plot_deaths = list_plot(data2, color = 'gray', pointsize = 20, alpha = 1, legend_label = 'deaths')\n",
    "    plot_cases.legend()\n",
    "    plot_deaths.legend()\n",
    "\n",
    "    # show(plot0 + plot1 + plot2 + plot3 + plot4)\n",
    "    show(plot_cases + plot5)\n",
    "    show(plot_deaths + plot4)\n",
    "    \n",
    "    new_inits = [model_out_0[-1][1], model_out_1[-1][1], model_out_2[-1][1],\n",
    "                 model_out_3[-1][1], model_out_4[-1][1], model_out_5[-1][1]]\n",
    "    \n",
    "    print(new_inits)\n",
    "    \n",
    "interact(modeling,\n",
    "         B0      = input_box(2.0, type = float, label = \"B0: \"),\n",
    "         rho     = slider([i/1000 for i in range(1, 1000)], default = 0.999, label = \"rho: \"),\n",
    "         Ti      = slider([i for i in range(1, 30)],        default = 9,     label = \"Ti: \"),\n",
    "         alpha   = slider([i/1000 for i in range(0, 1000)], default = 0.017, label = \"alpha: \"),\n",
    "         f       = slider([i/1000 for i in range(1, 1000)], default = 0.005, label = \"f: \"),\n",
    "         method  = input_box(\"r\", type = str, label = \"Method: \"))"
   ]
  },
  {
   "cell_type": "code",
   "execution_count": 15,
   "metadata": {},
   "outputs": [
    {
     "data": {
      "application/vnd.jupyter.widget-view+json": {
       "model_id": "63305fb948884dcca95ca069a472a84d",
       "version_major": 2,
       "version_minor": 0
      },
      "text/plain": [
       "Interactive function <function modeling at 0x7fd5762f48c0> with 6 widgets\n",
       "  B0: EvalText(value='2.000000000000…"
      ]
     },
     "metadata": {},
     "output_type": "display_data"
    },
    {
     "data": {
      "text/html": [
       "<html><script type=\"math/tex; mode=display\">\\newcommand{\\Bold}[1]{\\mathbf{#1}}\\verb|<function|\\phantom{\\verb!x!}\\verb|modeling|\\phantom{\\verb!x!}\\verb|at|\\phantom{\\verb!x!}\\verb|0x7fd5762f48c0>|</script></html>"
      ],
      "text/plain": [
       "<function modeling at 0x7fd5762f48c0>"
      ]
     },
     "execution_count": 15,
     "metadata": {},
     "output_type": "execute_result"
    }
   ],
   "source": [
    "def modeling(B0, rho, Ti, alpha, f, method):\n",
    "    tspan = [135, 177]\n",
    "\n",
    "    inits = [0.0006413355249324529, 0.22210394590038043, 0.040877740676603186,\n",
    "             0.7326950359119634, 0.003681941986119951, 0.7772547185746878]\n",
    "    \n",
    "    pop   = 60461828\n",
    "\n",
    "    model_out_0 = []\n",
    "    model_out_1 = []\n",
    "    model_out_2 = []\n",
    "    model_out_3 = []\n",
    "    model_out_4 = []\n",
    "    model_out_5 = []\n",
    "\n",
    "    T = ode_solver()\n",
    "    T.function = model\n",
    "    T.ode_solve(tspan, inits, num_points = tspan[1] - tspan[0], \n",
    "                params = [B0, Ti, tspan[0], alpha, rho, f, method])\n",
    "\n",
    "    for k in T.solution:\n",
    "        model_out_0.append((k[0], k[1][0]))\n",
    "        model_out_1.append((k[0], k[1][1]))\n",
    "        model_out_2.append((k[0], k[1][2]))\n",
    "        model_out_3.append((k[0], k[1][3]))\n",
    "        model_out_4.append((k[0], k[1][4]))\n",
    "        model_out_5.append((k[0], k[1][5]))\n",
    "\n",
    "    real_data = np.genfromtxt('data.csv', delimiter=',')[1:]\n",
    "    data1 = []\n",
    "    data2 = []\n",
    "    for k in real_data:\n",
    "        if tspan[0] <= k[0] <= tspan[1]:\n",
    "            data1.append((k[0], k[1]/pop))\n",
    "            data2.append((k[0], k[3]/pop))\n",
    "\n",
    "    plot0 = list_plot(model_out_0, color = 'green' , pointsize = 20, alpha = 1, legend_label = 'S')\n",
    "    plot1 = list_plot(model_out_1, color = 'yellow', pointsize = 20, alpha = 1, legend_label = 'E')\n",
    "    plot2 = list_plot(model_out_2, color = 'red'   , pointsize = 20, alpha = 1, legend_label = 'I')\n",
    "    plot3 = list_plot(model_out_3, color = 'blue'  , pointsize = 20, alpha = 1, legend_label = 'R')\n",
    "    plot4 = list_plot(model_out_4, color = 'black' , pointsize = 20, alpha = 1, legend_label = 'model_deaths')\n",
    "    plot5 = list_plot(model_out_4, color = 'orange', pointsize = 20, alpha = 1, legend_label = 'accumulated')\n",
    "\n",
    "    plot0.legend()\n",
    "    plot1.legend()\n",
    "    plot2.legend()\n",
    "    plot3.legend()\n",
    "    plot4.legend()\n",
    "    plot5.legend()\n",
    "\n",
    "    plot_cases  = list_plot(data1, color = 'red' , pointsize = 20, alpha = 1, legend_label = 'cases')\n",
    "    plot_deaths = list_plot(data2, color = 'gray', pointsize = 20, alpha = 1, legend_label = 'deaths')\n",
    "    plot_cases.legend()\n",
    "    plot_deaths.legend()\n",
    "\n",
    "    # show(plot0 + plot1 + plot2 + plot3 + plot4)\n",
    "    show(plot_cases + plot5)\n",
    "    show(plot_deaths + plot4)\n",
    "    \n",
    "    new_inits = [model_out_0[-1][1], model_out_1[-1][1], model_out_2[-1][1],\n",
    "                 model_out_3[-1][1], model_out_4[-1][1], model_out_5[-1][1]]\n",
    "    \n",
    "    print(new_inits)\n",
    "    \n",
    "interact(modeling,\n",
    "         B0      = input_box(2.0, type = float, label = \"B0: \"),\n",
    "         rho     = slider([i/1000 for i in range(1, 1000)], default = 0.801, label = \"rho: \"),\n",
    "         Ti      = slider([i for i in range(1, 30)],        default = 14,    label = \"Ti: \"),\n",
    "         alpha   = slider([i/1000 for i in range(0, 1000)], default = 0.003, label = \"alpha: \"),\n",
    "         f       = slider([i/1000 for i in range(1, 1000)], default = 0.005, label = \"f: \"),\n",
    "         method  = input_box(\"r\", type = str, label = \"Method: \"))"
   ]
  },
  {
   "cell_type": "code",
   "execution_count": 16,
   "metadata": {},
   "outputs": [
    {
     "data": {
      "application/vnd.jupyter.widget-view+json": {
       "model_id": "48a303ebd12b4770abf2a5c8c20fdf1a",
       "version_major": 2,
       "version_minor": 0
      },
      "text/plain": [
       "Interactive function <function modeling at 0x7fd576905cb0> with 6 widgets\n",
       "  B0: EvalText(value='2.000000000000…"
      ]
     },
     "metadata": {},
     "output_type": "display_data"
    },
    {
     "data": {
      "text/html": [
       "<html><script type=\"math/tex; mode=display\">\\newcommand{\\Bold}[1]{\\mathbf{#1}}\\verb|<function|\\phantom{\\verb!x!}\\verb|modeling|\\phantom{\\verb!x!}\\verb|at|\\phantom{\\verb!x!}\\verb|0x7fd576905cb0>|</script></html>"
      ],
      "text/plain": [
       "<function modeling at 0x7fd576905cb0>"
      ]
     },
     "execution_count": 16,
     "metadata": {},
     "output_type": "execute_result"
    }
   ],
   "source": [
    "def modeling(B0, rho, Ti, alpha, f, method):\n",
    "    tspan = [177, 226]\n",
    "\n",
    "    inits = [0.00014762130440320077, 0.1962599790955094, 0.010151410147323944,\n",
    "             0.789473727408869, 0.003967262043893348, 0.8035923996000883]\n",
    "    \n",
    "    pop   = 60461828\n",
    "\n",
    "    model_out_0 = []\n",
    "    model_out_1 = []\n",
    "    model_out_2 = []\n",
    "    model_out_3 = []\n",
    "    model_out_4 = []\n",
    "    model_out_5 = []\n",
    "\n",
    "    T = ode_solver()\n",
    "    T.function = model\n",
    "    T.ode_solve(tspan, inits, num_points = tspan[1] - tspan[0], \n",
    "                params = [B0, Ti, tspan[0], alpha, rho, f, method])\n",
    "\n",
    "    for k in T.solution:\n",
    "        model_out_0.append((k[0], k[1][0]))\n",
    "        model_out_1.append((k[0], k[1][1]))\n",
    "        model_out_2.append((k[0], k[1][2]))\n",
    "        model_out_3.append((k[0], k[1][3]))\n",
    "        model_out_4.append((k[0], k[1][4]))\n",
    "        model_out_5.append((k[0], k[1][5]))\n",
    "\n",
    "    real_data = np.genfromtxt('data.csv', delimiter=',')[1:]\n",
    "    data1 = []\n",
    "    data2 = []\n",
    "    for k in real_data:\n",
    "        if tspan[0] <= k[0] <= tspan[1]:\n",
    "            data1.append((k[0], k[1]/pop))\n",
    "            data2.append((k[0], k[3]/pop))\n",
    "\n",
    "    plot0 = list_plot(model_out_0, color = 'green' , pointsize = 20, alpha = 1, legend_label = 'S')\n",
    "    plot1 = list_plot(model_out_1, color = 'yellow', pointsize = 20, alpha = 1, legend_label = 'E')\n",
    "    plot2 = list_plot(model_out_2, color = 'red'   , pointsize = 20, alpha = 1, legend_label = 'I')\n",
    "    plot3 = list_plot(model_out_3, color = 'blue'  , pointsize = 20, alpha = 1, legend_label = 'R')\n",
    "    plot4 = list_plot(model_out_4, color = 'black' , pointsize = 20, alpha = 1, legend_label = 'model_deaths')\n",
    "    plot5 = list_plot(model_out_4, color = 'orange', pointsize = 20, alpha = 1, legend_label = 'accumulated')\n",
    "\n",
    "    plot0.legend()\n",
    "    plot1.legend()\n",
    "    plot2.legend()\n",
    "    plot3.legend()\n",
    "    plot4.legend()\n",
    "    plot5.legend()\n",
    "\n",
    "    plot_cases  = list_plot(data1, color = 'red' , pointsize = 20, alpha = 1, legend_label = 'cases')\n",
    "    plot_deaths = list_plot(data2, color = 'gray', pointsize = 20, alpha = 1, legend_label = 'deaths')\n",
    "    plot_cases.legend()\n",
    "    plot_deaths.legend()\n",
    "\n",
    "    # show(plot0 + plot1 + plot2 + plot3 + plot4)\n",
    "    show(plot_cases + plot5)\n",
    "    show(plot_deaths + plot4)\n",
    "    \n",
    "    new_inits = [model_out_0[-1][1], model_out_1[-1][1], model_out_2[-1][1],\n",
    "                 model_out_3[-1][1], model_out_4[-1][1], model_out_5[-1][1]]\n",
    "    \n",
    "    print(new_inits)\n",
    "    \n",
    "interact(modeling,\n",
    "         B0      = input_box(2.0, type = float, label = \"B0: \"),\n",
    "         rho     = slider([i/1000 for i in range(1, 1000)], default = 0.500, label = \"rho: \"),\n",
    "         Ti      = slider([i for i in range(1, 30)],        default = 29,    label = \"Ti: \"),\n",
    "         alpha   = slider([i/1000 for i in range(0, 1000)], default = 0.007, label = \"alpha: \"),\n",
    "         f       = slider([i/1000 for i in range(1, 1000)], default = 0.005, label = \"f: \"),\n",
    "         method  = input_box(\"r\", type = str, label = \"Method: \"))"
   ]
  },
  {
   "cell_type": "code",
   "execution_count": 17,
   "metadata": {},
   "outputs": [
    {
     "data": {
      "application/vnd.jupyter.widget-view+json": {
       "model_id": "818dcc0bd62049ae85d0418580c8123a",
       "version_major": 2,
       "version_minor": 0
      },
      "text/plain": [
       "Interactive function <function modeling at 0x7fd576634560> with 6 widgets\n",
       "  B0: EvalText(value='2.000000000000…"
      ]
     },
     "metadata": {},
     "output_type": "display_data"
    },
    {
     "data": {
      "text/html": [
       "<html><script type=\"math/tex; mode=display\">\\newcommand{\\Bold}[1]{\\mathbf{#1}}\\verb|<function|\\phantom{\\verb!x!}\\verb|modeling|\\phantom{\\verb!x!}\\verb|at|\\phantom{\\verb!x!}\\verb|0x7fd576634560>|</script></html>"
      ],
      "text/plain": [
       "<function modeling at 0x7fd576634560>"
      ]
     },
     "execution_count": 17,
     "metadata": {},
     "output_type": "execute_result"
    }
   ],
   "source": [
    "def modeling(B0, rho, Ti, alpha, f, method):\n",
    "    tspan = [226, 265]\n",
    "\n",
    "    inits = [1.7790080069855823e-05, 0.13937942922729055, 0.02813432349652922,\n",
    "             0.8283060578134991, 0.00416239938261008, 0.8606027806926402]\n",
    "    \n",
    "    pop   = 60461828\n",
    "\n",
    "    model_out_0 = []\n",
    "    model_out_1 = []\n",
    "    model_out_2 = []\n",
    "    model_out_3 = []\n",
    "    model_out_4 = []\n",
    "    model_out_5 = []\n",
    "\n",
    "    T = ode_solver()\n",
    "    T.function = model\n",
    "    T.ode_solve(tspan, inits, num_points = tspan[1] - tspan[0], \n",
    "                params = [B0, Ti, tspan[0], alpha, rho, f, method])\n",
    "\n",
    "    for k in T.solution:\n",
    "        model_out_0.append((k[0], k[1][0]))\n",
    "        model_out_1.append((k[0], k[1][1]))\n",
    "        model_out_2.append((k[0], k[1][2]))\n",
    "        model_out_3.append((k[0], k[1][3]))\n",
    "        model_out_4.append((k[0], k[1][4]))\n",
    "        model_out_5.append((k[0], k[1][5]))\n",
    "\n",
    "    real_data = np.genfromtxt('data.csv', delimiter=',')[1:]\n",
    "    data1 = []\n",
    "    data2 = []\n",
    "    for k in real_data:\n",
    "        if tspan[0] <= k[0] <= tspan[1]:\n",
    "            data1.append((k[0], k[1]/pop))\n",
    "            data2.append((k[0], k[3]/pop))\n",
    "\n",
    "    plot0 = list_plot(model_out_0, color = 'green' , pointsize = 20, alpha = 1, legend_label = 'S')\n",
    "    plot1 = list_plot(model_out_1, color = 'yellow', pointsize = 20, alpha = 1, legend_label = 'E')\n",
    "    plot2 = list_plot(model_out_2, color = 'red'   , pointsize = 20, alpha = 1, legend_label = 'I')\n",
    "    plot3 = list_plot(model_out_3, color = 'blue'  , pointsize = 20, alpha = 1, legend_label = 'R')\n",
    "    plot4 = list_plot(model_out_4, color = 'black' , pointsize = 20, alpha = 1, legend_label = 'model_deaths')\n",
    "    plot5 = list_plot(model_out_4, color = 'orange', pointsize = 20, alpha = 1, legend_label = 'accumulated')\n",
    "\n",
    "    plot0.legend()\n",
    "    plot1.legend()\n",
    "    plot2.legend()\n",
    "    plot3.legend()\n",
    "    plot4.legend()\n",
    "    plot5.legend()\n",
    "\n",
    "    plot_cases  = list_plot(data1, color = 'red' , pointsize = 20, alpha = 1, legend_label = 'cases')\n",
    "    plot_deaths = list_plot(data2, color = 'gray', pointsize = 20, alpha = 1, legend_label = 'deaths')\n",
    "    plot_cases.legend()\n",
    "    plot_deaths.legend()\n",
    "\n",
    "    # show(plot0 + plot1 + plot2 + plot3 + plot4)\n",
    "    show(plot_cases + plot5)\n",
    "    show(plot_deaths + plot4)\n",
    "    \n",
    "    new_inits = [model_out_0[-1][1], model_out_1[-1][1], model_out_2[-1][1],\n",
    "                 model_out_3[-1][1], model_out_4[-1][1], model_out_5[-1][1]]\n",
    "    \n",
    "    print(new_inits)\n",
    "    \n",
    "interact(modeling,\n",
    "         B0      = input_box(2.0, type = float, label = \"B0: \"),\n",
    "         rho     = slider([i/1000 for i in range(1, 1000)], default = 0.801, label = \"rho: \"),\n",
    "         Ti      = slider([i for i in range(1, 30)],        default = 29,    label = \"Ti: \"),\n",
    "         alpha   = slider([i/1000 for i in range(0, 1000)], default = 0.114, label = \"alpha: \"),\n",
    "         f       = slider([i/1000 for i in range(1, 1000)], default = 0.007, label = \"f: \"),\n",
    "         method  = input_box(\"r\", type = str, label = \"Method: \"))"
   ]
  },
  {
   "cell_type": "code",
   "execution_count": 18,
   "metadata": {},
   "outputs": [
    {
     "data": {
      "application/vnd.jupyter.widget-view+json": {
       "model_id": "b79bad19bd524e638a34029a105f32c6",
       "version_major": 2,
       "version_minor": 0
      },
      "text/plain": [
       "Interactive function <function modeling at 0x7fd575f84170> with 6 widgets\n",
       "  B0: EvalText(value='2.000000000000…"
      ]
     },
     "metadata": {},
     "output_type": "display_data"
    },
    {
     "data": {
      "text/html": [
       "<html><script type=\"math/tex; mode=display\">\\newcommand{\\Bold}[1]{\\mathbf{#1}}\\verb|<function|\\phantom{\\verb!x!}\\verb|modeling|\\phantom{\\verb!x!}\\verb|at|\\phantom{\\verb!x!}\\verb|0x7fd575f84170>|</script></html>"
      ],
      "text/plain": [
       "<function modeling at 0x7fd575f84170>"
      ]
     },
     "execution_count": 18,
     "metadata": {},
     "output_type": "execute_result"
    }
   ],
   "source": [
    "def modeling(B0, rho, Ti, alpha, f, method):\n",
    "    tspan = [265, 283]\n",
    "\n",
    "    inits = [4.7437399327451656e-08, 0.0016349038660012749, 0.05706654409991799,\n",
    "             0.9363742948822662, 0.0049242097144140745, 0.9983650486966004]\n",
    "    \n",
    "    pop   = 60461828\n",
    "\n",
    "    model_out_0 = []\n",
    "    model_out_1 = []\n",
    "    model_out_2 = []\n",
    "    model_out_3 = []\n",
    "    model_out_4 = []\n",
    "    model_out_5 = []\n",
    "\n",
    "    T = ode_solver()\n",
    "    T.function = model\n",
    "    T.ode_solve(tspan, inits, num_points = tspan[1] - tspan[0], \n",
    "                params = [B0, Ti, tspan[0], alpha, rho, f, method])\n",
    "\n",
    "    for k in T.solution:\n",
    "        model_out_0.append((k[0], k[1][0]))\n",
    "        model_out_1.append((k[0], k[1][1]))\n",
    "        model_out_2.append((k[0], k[1][2]))\n",
    "        model_out_3.append((k[0], k[1][3]))\n",
    "        model_out_4.append((k[0], k[1][4]))\n",
    "        model_out_5.append((k[0], k[1][5]))\n",
    "\n",
    "    real_data = np.genfromtxt('data.csv', delimiter=',')[1:]\n",
    "    data1 = []\n",
    "    data2 = []\n",
    "    for k in real_data:\n",
    "        if tspan[0] <= k[0] <= tspan[1]:\n",
    "            data1.append((k[0], k[1]/pop))\n",
    "            data2.append((k[0], k[3]/pop))\n",
    "\n",
    "    plot0 = list_plot(model_out_0, color = 'green' , pointsize = 20, alpha = 1, legend_label = 'S')\n",
    "    plot1 = list_plot(model_out_1, color = 'yellow', pointsize = 20, alpha = 1, legend_label = 'E')\n",
    "    plot2 = list_plot(model_out_2, color = 'red'   , pointsize = 20, alpha = 1, legend_label = 'I')\n",
    "    plot3 = list_plot(model_out_3, color = 'blue'  , pointsize = 20, alpha = 1, legend_label = 'R')\n",
    "    plot4 = list_plot(model_out_4, color = 'black' , pointsize = 20, alpha = 1, legend_label = 'model_deaths')\n",
    "    plot5 = list_plot(model_out_4, color = 'orange', pointsize = 20, alpha = 1, legend_label = 'accumulated')\n",
    "\n",
    "    plot0.legend()\n",
    "    plot1.legend()\n",
    "    plot2.legend()\n",
    "    plot3.legend()\n",
    "    plot4.legend()\n",
    "    plot5.legend()\n",
    "\n",
    "    plot_cases  = list_plot(data1, color = 'red' , pointsize = 20, alpha = 1, legend_label = 'cases')\n",
    "    plot_deaths = list_plot(data2, color = 'gray', pointsize = 20, alpha = 1, legend_label = 'deaths')\n",
    "    plot_cases.legend()\n",
    "    plot_deaths.legend()\n",
    "\n",
    "    # show(plot0 + plot1 + plot2 + plot3 + plot4)\n",
    "    show(plot_cases + plot5)\n",
    "    show(plot_deaths + plot4)\n",
    "    \n",
    "    new_inits = [model_out_0[-1][1], model_out_1[-1][1], model_out_2[-1][1],\n",
    "                 model_out_3[-1][1], model_out_4[-1][1], model_out_5[-1][1]]\n",
    "    \n",
    "    print(new_inits)\n",
    "    \n",
    "interact(modeling,\n",
    "         B0      = input_box(2.0, type = float, label = \"B0: \"),\n",
    "         rho     = slider([i/1000 for i in range(1, 1000)], default = 0.247, label = \"rho: \"),\n",
    "         Ti      = slider([i for i in range(1, 30)],        default = 29,    label = \"Ti: \"),\n",
    "         alpha   = slider([i/1000 for i in range(0, 1000)], default = 0.026, label = \"alpha: \"),\n",
    "         f       = slider([i/1000 for i in range(1, 1000)], default = 0.025, label = \"f: \"),\n",
    "         method  = input_box(\"r\", type = str, label = \"Method: \"))"
   ]
  },
  {
   "cell_type": "code",
   "execution_count": 19,
   "metadata": {},
   "outputs": [
    {
     "data": {
      "application/vnd.jupyter.widget-view+json": {
       "model_id": "9dc4377e97e440418c9c47a4352e48a4",
       "version_major": 2,
       "version_minor": 0
      },
      "text/plain": [
       "Interactive function <function modeling at 0x7fd5767ffdd0> with 6 widgets\n",
       "  B0: EvalText(value='2.000000000000…"
      ]
     },
     "metadata": {},
     "output_type": "display_data"
    },
    {
     "data": {
      "text/html": [
       "<html><script type=\"math/tex; mode=display\">\\newcommand{\\Bold}[1]{\\mathbf{#1}}\\verb|<function|\\phantom{\\verb!x!}\\verb|modeling|\\phantom{\\verb!x!}\\verb|at|\\phantom{\\verb!x!}\\verb|0x7fd5767ffdd0>|</script></html>"
      ],
      "text/plain": [
       "<function modeling at 0x7fd5767ffdd0>"
      ]
     },
     "execution_count": 19,
     "metadata": {},
     "output_type": "execute_result"
    }
   ],
   "source": [
    "def modeling(B0, rho, Ti, alpha, f, method):\n",
    "    tspan = [283, 365]\n",
    "\n",
    "    inits = [1.0281285988868248e-08, 0.0010238916622725314, 0.03112185291035376,\n",
    "             0.9622661419179371, 0.005588103228149233, 0.9989760980564425]\n",
    "    \n",
    "    pop   = 60461828\n",
    "\n",
    "    model_out_0 = []\n",
    "    model_out_1 = []\n",
    "    model_out_2 = []\n",
    "    model_out_3 = []\n",
    "    model_out_4 = []\n",
    "    model_out_5 = []\n",
    "\n",
    "    T = ode_solver()\n",
    "    T.function = model\n",
    "    T.ode_solve(tspan, inits, num_points = tspan[1] - tspan[0], \n",
    "                params = [B0, Ti, tspan[0], alpha, rho, f, method])\n",
    "\n",
    "    for k in T.solution:\n",
    "        model_out_0.append((k[0], k[1][0]))\n",
    "        model_out_1.append((k[0], k[1][1]))\n",
    "        model_out_2.append((k[0], k[1][2]))\n",
    "        model_out_3.append((k[0], k[1][3]))\n",
    "        model_out_4.append((k[0], k[1][4]))\n",
    "        model_out_5.append((k[0], k[1][5]))\n",
    "\n",
    "    real_data = np.genfromtxt('data.csv', delimiter=',')[1:]\n",
    "    data1 = []\n",
    "    data2 = []\n",
    "    for k in real_data:\n",
    "        if tspan[0] <= k[0] <= tspan[1]:\n",
    "            data1.append((k[0], k[1]/pop))\n",
    "            data2.append((k[0], k[3]/pop))\n",
    "\n",
    "    plot0 = list_plot(model_out_0, color = 'green' , pointsize = 20, alpha = 1, legend_label = 'S')\n",
    "    plot1 = list_plot(model_out_1, color = 'yellow', pointsize = 20, alpha = 1, legend_label = 'E')\n",
    "    plot2 = list_plot(model_out_2, color = 'red'   , pointsize = 20, alpha = 1, legend_label = 'I')\n",
    "    plot3 = list_plot(model_out_3, color = 'blue'  , pointsize = 20, alpha = 1, legend_label = 'R')\n",
    "    plot4 = list_plot(model_out_4, color = 'black' , pointsize = 20, alpha = 1, legend_label = 'model_deaths')\n",
    "    plot5 = list_plot(model_out_4, color = 'orange', pointsize = 20, alpha = 1, legend_label = 'accumulated')\n",
    "\n",
    "    plot0.legend()\n",
    "    plot1.legend()\n",
    "    plot2.legend()\n",
    "    plot3.legend()\n",
    "    plot4.legend()\n",
    "    plot5.legend()\n",
    "\n",
    "    plot_cases  = list_plot(data1, color = 'red' , pointsize = 20, alpha = 1, legend_label = 'cases')\n",
    "    plot_deaths = list_plot(data2, color = 'gray', pointsize = 20, alpha = 1, legend_label = 'deaths')\n",
    "    plot_cases.legend()\n",
    "    plot_deaths.legend()\n",
    "\n",
    "    # show(plot0 + plot1 + plot2 + plot3 + plot4)\n",
    "    show(plot_cases + plot5)\n",
    "    show(plot_deaths + plot4)\n",
    "    \n",
    "    new_inits = [model_out_0[-1][1], model_out_1[-1][1], model_out_2[-1][1],\n",
    "                 model_out_3[-1][1], model_out_4[-1][1], model_out_5[-1][1]]\n",
    "    \n",
    "    print(new_inits)\n",
    "    \n",
    "interact(modeling,\n",
    "         B0      = input_box(2.0, type = float, label = \"B0: \"),\n",
    "         rho     = slider([i/1000 for i in range(1, 1000)], default = 0.166, label = \"rho: \"),\n",
    "         Ti      = slider([i for i in range(1, 100)],       default = 99,    label = \"Ti: \"),\n",
    "         alpha   = slider([i/1000 for i in range(0, 1000)], default = 0.028, label = \"alpha: \"),\n",
    "         f       = slider([i/1000 for i in range(1, 1000)], default = 0.867, label = \"f: \"),\n",
    "         method  = input_box(\"r\", type = str, label = \"Method: \"))"
   ]
  },
  {
   "cell_type": "code",
   "execution_count": 20,
   "metadata": {},
   "outputs": [],
   "source": [
    "import sys"
   ]
  },
  {
   "cell_type": "code",
   "execution_count": 7,
   "metadata": {},
   "outputs": [
    {
     "name": "stdout",
     "output_type": "stream",
     "text": [
      "Collecting pip\n",
      "\u001b[?25l  Downloading https://files.pythonhosted.org/packages/cb/28/91f26bd088ce8e22169032100d4260614fc3da435025ff389ef1d396a433/pip-20.2.4-py2.py3-none-any.whl (1.5MB)\n",
      "\u001b[K    100% |████████████████████████████████| 1.5MB 1.2MB/s eta 0:00:01█████████████████████▌        | 1.1MB 18.0MB/s eta 0:00:01\n",
      "\u001b[?25hInstalling collected packages: pip\n",
      "  Found existing installation: pip 18.1\n",
      "    Uninstalling pip-18.1:\n",
      "      Successfully uninstalled pip-18.1\n",
      "Successfully installed pip-20.2.4\n"
     ]
    }
   ],
   "source": [
    "!{sys.executable} -m pip install --upgrade pip"
   ]
  },
  {
   "cell_type": "code",
   "execution_count": 12,
   "metadata": {},
   "outputs": [
    {
     "name": "stdout",
     "output_type": "stream",
     "text": [
      "Collecting pymc3\n",
      "  Using cached pymc3-3.9.3-py3-none-any.whl (1.9 MB)\n",
      "Requirement already satisfied: numpy>=1.13.0 in /opt/sagemath-9.0/local/lib/python3.7/site-packages (from pymc3) (1.16.1)\n",
      "Requirement already satisfied: pandas>=0.18.0 in /opt/sagemath-9.0/local/lib/python3.7/site-packages (from pymc3) (1.1.1)\n",
      "Requirement already satisfied: scipy>=0.18.1 in /opt/sagemath-9.0/local/lib/python3.7/site-packages (from pymc3) (1.2.0)\n",
      "Collecting typing-extensions>=3.7.4\n",
      "  Using cached typing_extensions-3.7.4.3-py3-none-any.whl (22 kB)\n",
      "Collecting h5py>=2.7.0\n",
      "  Using cached h5py-3.1.0.tar.gz (371 kB)\n",
      "  Installing build dependencies ... \u001b[?25ldone\n",
      "\u001b[?25h  Getting requirements to build wheel ... \u001b[?25ldone\n",
      "\u001b[?25h  Installing backend dependencies ... \u001b[?25ldone\n",
      "\u001b[?25h    Preparing wheel metadata ... \u001b[?25ldone\n",
      "\u001b[?25hCollecting fastprogress>=0.2.0\n",
      "  Using cached fastprogress-1.0.0-py3-none-any.whl (12 kB)\n",
      "Collecting arviz>=0.9.0\n",
      "  Using cached arviz-0.10.0-py3-none-any.whl (1.5 MB)\n",
      "Requirement already satisfied: theano>=1.0.5 in /opt/sagemath-9.0/local/lib/python3.7/site-packages (from pymc3) (1.0.5)\n",
      "Collecting patsy>=0.5.1\n",
      "  Using cached patsy-0.5.1-py2.py3-none-any.whl (231 kB)\n",
      "Requirement already satisfied: python-dateutil>=2.7.3 in /opt/sagemath-9.0/local/lib/python3.7/site-packages (from pandas>=0.18.0->pymc3) (2.8.1)\n",
      "Requirement already satisfied: pytz>=2017.2 in /opt/sagemath-9.0/local/lib/python3.7/site-packages (from pandas>=0.18.0->pymc3) (2018.7)\n",
      "Collecting cached-property; python_version < \"3.8\"\n",
      "  Using cached cached_property-1.5.2-py2.py3-none-any.whl (7.6 kB)\n",
      "Collecting matplotlib>=3.0\n",
      "  Using cached matplotlib-3.3.3.tar.gz (37.9 MB)\n",
      "Requirement already satisfied: setuptools>=38.4 in /opt/sagemath-9.0/local/lib/python3.7/site-packages (from arviz>=0.9.0->pymc3) (50.3.2)\n",
      "Collecting xarray>=0.16.1\n",
      "  Using cached xarray-0.16.1-py3-none-any.whl (720 kB)\n",
      "Collecting netcdf4\n",
      "  Using cached netCDF4-1.5.4.tar.gz (793 kB)\n",
      "\u001b[31m    ERROR: Command errored out with exit status 1:\n",
      "     command: /opt/sagemath-9.0/local/bin/python3.exe -c 'import sys, setuptools, tokenize; sys.argv[0] = '\"'\"'/tmp/pip-install-dv3j7gdy/netcdf4/setup.py'\"'\"'; __file__='\"'\"'/tmp/pip-install-dv3j7gdy/netcdf4/setup.py'\"'\"';f=getattr(tokenize, '\"'\"'open'\"'\"', open)(__file__);code=f.read().replace('\"'\"'\\r\\n'\"'\"', '\"'\"'\\n'\"'\"');f.close();exec(compile(code, __file__, '\"'\"'exec'\"'\"'))' egg_info --egg-base /tmp/pip-pip-egg-info-tayv1sh9\n",
      "         cwd: /tmp/pip-install-dv3j7gdy/netcdf4/\n",
      "    Complete output (20 lines):\n",
      "    Package hdf5 was not found in the pkg-config search path.\n",
      "    Perhaps you should add the directory containing `hdf5.pc'\n",
      "    to the PKG_CONFIG_PATH environment variable\n",
      "    Package 'hdf5', required by 'virtual:world', not found\n",
      "    reading from setup.cfg...\n",
      "    \n",
      "        HDF5_DIR environment variable not set, checking some standard locations ..\n",
      "    checking /home/sage ...\n",
      "    checking /usr/local ...\n",
      "    checking /sw ...\n",
      "    checking /opt ...\n",
      "    checking /opt/local ...\n",
      "    checking /usr ...\n",
      "    Traceback (most recent call last):\n",
      "      File \"<string>\", line 1, in <module>\n",
      "      File \"/tmp/pip-install-dv3j7gdy/netcdf4/setup.py\", line 397, in <module>\n",
      "        _populate_hdf5_info(dirstosearch, inc_dirs, libs, lib_dirs)\n",
      "      File \"/tmp/pip-install-dv3j7gdy/netcdf4/setup.py\", line 345, in _populate_hdf5_info\n",
      "        raise ValueError('did not find HDF5 headers')\n",
      "    ValueError: did not find HDF5 headers\n",
      "    ----------------------------------------\u001b[0m\n",
      "\u001b[31mERROR: Command errored out with exit status 1: python setup.py egg_info Check the logs for full command output.\u001b[0m\n"
     ]
    }
   ],
   "source": [
    "!{sys.executable} -m pip install pymc3"
   ]
  },
  {
   "cell_type": "code",
   "execution_count": 13,
   "metadata": {},
   "outputs": [
    {
     "name": "stdout",
     "output_type": "stream",
     "text": [
      "Collecting netCDF4\n",
      "  Using cached netCDF4-1.5.4.tar.gz (793 kB)\n",
      "\u001b[31m    ERROR: Command errored out with exit status 1:\n",
      "     command: /opt/sagemath-9.0/local/bin/python3.exe -c 'import sys, setuptools, tokenize; sys.argv[0] = '\"'\"'/tmp/pip-install-0dxi76t4/netcdf4/setup.py'\"'\"'; __file__='\"'\"'/tmp/pip-install-0dxi76t4/netcdf4/setup.py'\"'\"';f=getattr(tokenize, '\"'\"'open'\"'\"', open)(__file__);code=f.read().replace('\"'\"'\\r\\n'\"'\"', '\"'\"'\\n'\"'\"');f.close();exec(compile(code, __file__, '\"'\"'exec'\"'\"'))' egg_info --egg-base /tmp/pip-pip-egg-info-tbw8_97m\n",
      "         cwd: /tmp/pip-install-0dxi76t4/netcdf4/\n",
      "    Complete output (20 lines):\n",
      "    Package hdf5 was not found in the pkg-config search path.\n",
      "    Perhaps you should add the directory containing `hdf5.pc'\n",
      "    to the PKG_CONFIG_PATH environment variable\n",
      "    Package 'hdf5', required by 'virtual:world', not found\n",
      "    reading from setup.cfg...\n",
      "    \n",
      "        HDF5_DIR environment variable not set, checking some standard locations ..\n",
      "    checking /home/sage ...\n",
      "    checking /usr/local ...\n",
      "    checking /sw ...\n",
      "    checking /opt ...\n",
      "    checking /opt/local ...\n",
      "    checking /usr ...\n",
      "    Traceback (most recent call last):\n",
      "      File \"<string>\", line 1, in <module>\n",
      "      File \"/tmp/pip-install-0dxi76t4/netcdf4/setup.py\", line 397, in <module>\n",
      "        _populate_hdf5_info(dirstosearch, inc_dirs, libs, lib_dirs)\n",
      "      File \"/tmp/pip-install-0dxi76t4/netcdf4/setup.py\", line 345, in _populate_hdf5_info\n",
      "        raise ValueError('did not find HDF5 headers')\n",
      "    ValueError: did not find HDF5 headers\n",
      "    ----------------------------------------\u001b[0m\n",
      "\u001b[31mERROR: Command errored out with exit status 1: python setup.py egg_info Check the logs for full command output.\u001b[0m\n"
     ]
    }
   ],
   "source": [
    "!pip install netCDF4"
   ]
  },
  {
   "cell_type": "code",
   "execution_count": null,
   "metadata": {},
   "outputs": [],
   "source": []
  }
 ],
 "metadata": {
  "kernelspec": {
   "display_name": "SageMath 9.0",
   "language": "sage",
   "name": "sagemath"
  },
  "language_info": {
   "codemirror_mode": {
    "name": "ipython",
    "version": 3
   },
   "file_extension": ".py",
   "mimetype": "text/x-python",
   "name": "python",
   "nbconvert_exporter": "python",
   "pygments_lexer": "ipython3",
   "version": "3.7.8"
  }
 },
 "nbformat": 4,
 "nbformat_minor": 4
}
