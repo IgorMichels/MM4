{
 "cells": [
  {
   "cell_type": "code",
   "execution_count": 1,
   "metadata": {},
   "outputs": [],
   "source": [
    "#!{sys.executable} -m pip install salib\n",
    "#!{sys.executable} -m pip install epimodels\n",
    "#!{sys.executable} -m pip install seaborn"
   ]
  },
  {
   "cell_type": "code",
   "execution_count": 2,
   "metadata": {},
   "outputs": [],
   "source": [
    "%display typeset"
   ]
  },
  {
   "cell_type": "code",
   "execution_count": 3,
   "metadata": {},
   "outputs": [],
   "source": [
    "from SALib.sample import saltelli\n",
    "from SALib.analyze import sobol\n",
    "from epimodels.continuous import models as cm\n",
    "import seaborn as sns\n",
    "import numpy as np\n",
    "import pandas as pd\n",
    "import pylab as plt\n",
    "from collections import OrderedDict"
   ]
  },
  {
   "cell_type": "code",
   "execution_count": 4,
   "metadata": {},
   "outputs": [],
   "source": [
    "class SEIRD(cm.ContinuousModel):\n",
    "    def __init__(self):\n",
    "        super().__init__()\n",
    "        self.state_variables = OrderedDict({'S': 'Susceptible', 'E': 'Exposed', 'I': 'Infectious', 'R': 'Removed', 'D': 'Dead'})\n",
    "        self.parameters = OrderedDict({'beta': r'$\\beta$', 'alpha': r'$\\alpha$', 'T': r'$T$', 'f': r'$f$', 'N': r'$N$'})\n",
    "        self.model_type = 'SEIRD'\n",
    "\n",
    "    def _model(self, t: float, y: list, params: list):\n",
    "        S, E, I, R, D = y\n",
    "        beta, alpha, T, f, N = params['beta'], params['alpha'], params['T'], params['f'], params['N']\n",
    "        return [\n",
    "            -beta * S * I / N,\n",
    "            beta * S * I / N - alpha * E,\n",
    "            alpha * E - 1/T * I,\n",
    "            (1-f)/T * I,\n",
    "            f/T*I\n",
    "        ]"
   ]
  },
  {
   "cell_type": "code",
   "execution_count": 5,
   "metadata": {},
   "outputs": [],
   "source": [
    "my_model = cm.SEIR()"
   ]
  },
  {
   "cell_type": "code",
   "execution_count": 6,
   "metadata": {},
   "outputs": [
    {
     "data": {
      "text/html": [
       "<html><script type=\"math/tex; mode=display\">\\newcommand{\\Bold}[1]{\\mathbf{#1}}\\verb|OrderedDict([('beta',|\\phantom{\\verb!x!}\\verb|'$\\\\beta$'),|\\phantom{\\verb!x!}\\verb|('gamma',|\\phantom{\\verb!x!}\\verb|'$\\\\gamma$'),|\\phantom{\\verb!x!}\\verb|('epsilon',|\\phantom{\\verb!x!}\\verb|'$\\\\epsilon$')])|</script></html>"
      ],
      "text/plain": [
       "OrderedDict([('beta', '$\\\\beta$'), ('gamma', '$\\\\gamma$'), ('epsilon', '$\\\\epsilon$')])"
      ]
     },
     "execution_count": 6,
     "metadata": {},
     "output_type": "execute_result"
    }
   ],
   "source": [
    "my_model.parameters"
   ]
  },
  {
   "cell_type": "code",
   "execution_count": 7,
   "metadata": {},
   "outputs": [],
   "source": [
    "params = {\n",
    "    'beta': 0.5,\n",
    "    'gamma': 0.5,\n",
    "    'epsilon': 0.2,\n",
    "    #'f': 0.8,\n",
    "    #'N': 100,\n",
    "}\n",
    "inits = [0.8, 0.2, 0, 0]#, 0]"
   ]
  },
  {
   "cell_type": "code",
   "execution_count": 8,
   "metadata": {},
   "outputs": [
    {
     "name": "stdout",
     "output_type": "stream",
     "text": [
      "10 loops, best of 5: 32.2 ms per loop\n"
     ]
    }
   ],
   "source": [
    "%%timeit\n",
    "# parms = dict(zip(params.keys(),param_values[3]))\n",
    "my_model(inits=inits, trange = [0,200], totpop=1, params=params)\n",
    "# max(my_model.traces['I'])"
   ]
  },
  {
   "cell_type": "code",
   "execution_count": 9,
   "metadata": {},
   "outputs": [
    {
     "data": {
      "image/png": "[encoded data removed]",
      "text/plain": [
       "<Figure size 432x288 with 1 Axes>"
      ]
     },
     "metadata": {},
     "output_type": "display_data"
    }
   ],
   "source": [
    "\n",
    "my_model.plot_traces(['I','E', 'R'])"
   ]
  },
  {
   "cell_type": "code",
   "execution_count": 10,
   "metadata": {},
   "outputs": [],
   "source": [
    "problem = {\n",
    "    'num_vars': 3,\n",
    "    'names': list(params.keys()),\n",
    "    'bounds': [[0.01,0.99], [0.01,0.99], [0.01,0.99]]\n",
    "}"
   ]
  },
  {
   "cell_type": "code",
   "execution_count": 11,
   "metadata": {},
   "outputs": [],
   "source": [
    "param_values = saltelli.sample(problem, 1000)"
   ]
  },
  {
   "cell_type": "code",
   "execution_count": 12,
   "metadata": {},
   "outputs": [
    {
     "data": {
      "text/html": [
       "<html><script type=\"math/tex; mode=display\">\\newcommand{\\Bold}[1]{\\mathbf{#1}}\\left(8000, 3\\right)</script></html>"
      ],
      "text/plain": [
       "(8000, 3)"
      ]
     },
     "execution_count": 12,
     "metadata": {},
     "output_type": "execute_result"
    }
   ],
   "source": [
    "param_values.shape"
   ]
  },
  {
   "cell_type": "code",
   "execution_count": 13,
   "metadata": {},
   "outputs": [],
   "source": [
    "def eval_model(parametros):\n",
    "    parms = dict(zip(params.keys(),parametros))\n",
    "    mod = cm.SEIR()\n",
    "    mod(inits=inits, trange = [0,200], totpop=1, params=parms)\n",
    "    Y = max(mod.traces['I'])\n",
    "    return Y"
   ]
  },
  {
   "cell_type": "code",
   "execution_count": 14,
   "metadata": {},
   "outputs": [],
   "source": [
    " #Y = np.zeros([param_values.shape[0]])\n",
    " #for i, p in enumerate(param_values):\n",
    " #    Y[i] = eval_model(p)"
   ]
  },
  {
   "cell_type": "code",
   "execution_count": 19,
   "metadata": {},
   "outputs": [],
   "source": [
    "from multiprocessing import Pool"
   ]
  },
  {
   "cell_type": "code",
   "execution_count": 20,
   "metadata": {},
   "outputs": [],
   "source": [
    "Po = Pool()\n",
    "Y = Po.map(eval_model, param_values)"
   ]
  },
  {
   "cell_type": "code",
   "execution_count": 16,
   "metadata": {},
   "outputs": [],
   "source": [
    "Si = sobol.analyze(problem, np.array(Y), print_to_console=False)"
   ]
  },
  {
   "cell_type": "code",
   "execution_count": 21,
   "metadata": {},
   "outputs": [
    {
     "data": {
      "image/png": "[encoded data removed]",
      "text/plain": [
       "<Figure size 720x576 with 1 Axes>"
      ]
     },
     "metadata": {},
     "output_type": "display_data"
    }
   ],
   "source": [
    "def plot_sobol(si,prob, order=1):\n",
    "    Si_filter = {k:si[k] for k in ['ST','ST_conf','S1','S1_conf']}\n",
    "    Si_df = pd.DataFrame(Si_filter, index=problem['names'][:-1])\n",
    "    fig, ax = plt.subplots(1, figsize=(10,8))\n",
    "\n",
    "    indices = Si_df[['S1','ST']]\n",
    "    err = Si_df[['S1_conf','ST_conf']]\n",
    "\n",
    "    indices.plot.bar(yerr=err.values.T,ax=ax)\n",
    "plot_sobol(Si,problem)"
   ]
  },
  {
   "cell_type": "code",
   "execution_count": null,
   "metadata": {},
   "outputs": [],
   "source": []
  }
 ],
 "metadata": {
  "kernelspec": {
   "display_name": "SageMath 9.0",
   "language": "sage",
   "name": "sagemath"
  },
  "language_info": {
   "codemirror_mode": {
    "name": "ipython",
    "version": 3
   },
   "file_extension": ".py",
   "mimetype": "text/x-python",
   "name": "python",
   "nbconvert_exporter": "python",
   "pygments_lexer": "ipython3",
   "version": "3.7.8"
  }
 },
 "nbformat": 4,
 "nbformat_minor": 4
}
