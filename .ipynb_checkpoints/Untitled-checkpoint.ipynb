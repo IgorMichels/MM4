{
 "cells": [
  {
   "cell_type": "code",
   "execution_count": 1,
   "metadata": {},
   "outputs": [
    {
     "data": {
      "text/plain": [
       "array([0.25, 0.5 , 0.75, 1.  , 1.25, 1.5 , 1.75, 2.  , 2.25, 2.5 , 2.75,\n",
       "       3.  , 3.25, 3.5 , 3.75, 4.  , 4.25, 4.5 , 4.75])"
      ]
     },
     "execution_count": 1,
     "metadata": {},
     "output_type": "execute_result"
    }
   ],
   "source": [
    "import numpy as np\n",
    "\n",
    "np.arange(0.25, 5, 0.25)"
   ]
  },
  {
   "cell_type": "code",
   "execution_count": 3,
   "metadata": {},
   "outputs": [],
   "source": [
    "%matplotlib inline\n",
    "import pymc3 as pm\n",
    "from pymc3.ode import DifferentialEquation\n",
    "import numpy as np\n",
    "import matplotlib.pyplot as plt\n",
    "from scipy.integrate import odeint\n",
    "import arviz as az\n",
    "import theano\n",
    "\n",
    "plt.style.use('seaborn-darkgrid')"
   ]
  },
  {
   "cell_type": "code",
   "execution_count": 4,
   "metadata": {},
   "outputs": [
    {
     "data": {
      "image/png": "[encoded data removed]",
      "text/plain": [
       "<Figure size 432x288 with 1 Axes>"
      ]
     },
     "metadata": {},
     "output_type": "display_data"
    }
   ],
   "source": [
    "def SIR(y, t, p):\n",
    "    ds = -p[0] * y[0] * y[1]\n",
    "    di = p[0] * y[0] * y[1] - p[1] * y[1]\n",
    "    return [ds, di]\n",
    "\n",
    "times = np.arange(0, 5, 0.25)\n",
    "\n",
    "beta,gamma = 4,1.0\n",
    "# Gerando curvas simuladas\n",
    "y = odeint(SIR, t=times, y0=[0.99, 0.01], args=((beta, gamma),), rtol=1e-8)\n",
    "# Simulando dados  Assumindo uma distribuição log-normal com média igual às séries simuladas\n",
    "yobs = np.random.lognormal(mean=np.log(y[1::]), sigma=[0.2, 0.3])\n",
    "\n",
    "plt.plot(times[1::], yobs, marker='o', linestyle='none')\n",
    "plt.plot(times, y[:, 0], color='C0', alpha=0.5, label=f'$S(t)$')\n",
    "plt.plot(times, y[:, 1], color='C1', alpha=0.5, label=f'$I(t)$');\n",
    "plt.legend();"
   ]
  },
  {
   "cell_type": "code",
   "execution_count": 5,
   "metadata": {},
   "outputs": [
    {
     "data": {
      "text/plain": [
       "array([[0.8061774 , 0.0171319 ],\n",
       "       [1.02339944, 0.05370085],\n",
       "       [1.13375339, 0.07993712],\n",
       "       [0.77723557, 0.14223465],\n",
       "       [0.34457806, 0.20119367],\n",
       "       [0.37521303, 0.45444638],\n",
       "       [0.33915544, 0.33240046],\n",
       "       [0.21634835, 0.38329766],\n",
       "       [0.20308378, 0.49700864],\n",
       "       [0.11727872, 0.40525279],\n",
       "       [0.06091971, 0.28227976],\n",
       "       [0.04802203, 0.37533935],\n",
       "       [0.05064432, 0.19788019],\n",
       "       [0.04561693, 0.15917276],\n",
       "       [0.03331195, 0.04646374],\n",
       "       [0.03660701, 0.12149074],\n",
       "       [0.03424302, 0.09241271],\n",
       "       [0.02596149, 0.11363077],\n",
       "       [0.02064454, 0.04343191]])"
      ]
     },
     "execution_count": 5,
     "metadata": {},
     "output_type": "execute_result"
    }
   ],
   "source": [
    "np.random.lognormal(mean=np.log(y[1::]), sigma=[0.2, 0.3])"
   ]
  },
  {
   "cell_type": "code",
   "execution_count": null,
   "metadata": {},
   "outputs": [],
   "source": []
  },
  {
   "cell_type": "code",
   "execution_count": null,
   "metadata": {},
   "outputs": [],
   "source": []
  },
  {
   "cell_type": "code",
   "execution_count": 6,
   "metadata": {},
   "outputs": [],
   "source": [
    "def achaBt(t, tempos, B0, rho, method = \"r\"):\n",
    "    indice = 0\n",
    "    beta = B0\n",
    "    \n",
    "    if t <= tempos[0]:\n",
    "        if method == \"r\":\n",
    "            beta = beta * (1 - rho[indice])\n",
    "        else:\n",
    "            beta = beta * math.exp(- rho[indice] * t)\n",
    "        return beta, indice\n",
    "    \n",
    "    while t >= tempos[indice]:\n",
    "        if indice == len(tempos) - 1 or t < tempos[indice + 1]:\n",
    "            if t == tempos[indice - 1]:\n",
    "                return beta, indice\n",
    "            if method == \"r\":\n",
    "                beta = beta * (1 - rho[indice] * (t - tempos[indice - 1]) / t)\n",
    "            else:\n",
    "                beta = beta * math.exp(- rho[indice] * (t - tempos[indice]))\n",
    "                \n",
    "            return beta, indice\n",
    "        \n",
    "        else:\n",
    "            if indice == 0:\n",
    "                if method == \"r\":\n",
    "                    beta = beta * (1 - rho[indice])\n",
    "                else:\n",
    "                    beta = beta * math.exp(- rho[indice] * t)\n",
    "            else:\n",
    "                if method == \"r\":\n",
    "                    beta = beta * (1 - rho[indice] * (tempos[indice] - tempos[indice - 1]) / tempos[indice])\n",
    "                else:\n",
    "                    beta = beta * math.exp(- rho[indice] * (tempos[indice] - tempos[indice - 1]))\n",
    "            \n",
    "        indice += 1\n",
    "    "
   ]
  },
  {
   "cell_type": "code",
   "execution_count": 49,
   "metadata": {},
   "outputs": [],
   "source": [
    "def model(comp, t, params):\n",
    "    # alpha e f fixos aqui\n",
    "    S = comp[0]\n",
    "    E = comp[1]\n",
    "    I = comp[2]\n",
    "    R = comp[3]\n",
    "    D = comp[4]\n",
    "    A = comp[5]\n",
    "    \n",
    "#     S, E, I, R, D, A = comp\n",
    "#     B0, Ti, t0, alpha, rho, f = params\n",
    "    B0 = params[0]\n",
    "    Ti = params[1]\n",
    "    t0 = params[2]\n",
    "    alpha = params[3]\n",
    "    rho = params[4]\n",
    "    f = params[5]\n",
    "    \n",
    "    method = 'r'\n",
    "    '''\n",
    "        S, E, I, R e D são os compartimentos usuais.\n",
    "        B0 é o valor inicial de beta\n",
    "        Ti é a taxa de mortalidade\n",
    "        tempos é a partição do tempo que estamos fazendo (dia inicial de cada período, sem considerar o dia 0)\n",
    "        alpha é constantes\n",
    "        rho é o vetor dos rho_k para cada intervalo de tempo (usados na função de beta)\n",
    "        f é constante também\n",
    "    '''\n",
    "    N = S + E + I + R + D\n",
    "    beta = B0 * (1 - rho * (t - t0) / t)\n",
    "        \n",
    "    dS = -beta / N * S * I\n",
    "    dE = beta / N * S * I - alpha * E\n",
    "    dI = alpha * E - I / Ti\n",
    "    dR = (1 - f) / Ti * I\n",
    "    dD = f / Ti * I\n",
    "    dA = alpha * E\n",
    "    \n",
    "    return [\n",
    "        dS,\n",
    "        dE,\n",
    "        dI,\n",
    "        dR,\n",
    "        dD,\n",
    "        dA\n",
    "    ]"
   ]
  },
  {
   "cell_type": "code",
   "execution_count": 50,
   "metadata": {},
   "outputs": [],
   "source": [
    "pop = 60461828\n",
    "inits = [1 - 1e-6, 0, 1e-6, 0, 0, 0]\n",
    "\n",
    "t = [0, 22, 93, 135, 177, 226, 265, 283, 365]\n",
    "B0 = [0, 2, 2, 2, 2, 2, 2, 2]\n",
    "rho = [1/200, 93/250, 999/1000, 801/1000, 1/2, 801/1000, 247/1000, 83/500]\n",
    "Ti = [10, 3, 9, 14, 29, 29, 29, 99]\n",
    "alpha = [1/200, 153/500, 17/1000, 3/1000, 7/1000, 57/500, 13/500, 7/250]\n",
    "f = [1/200, 1/200, 1/200, 1/200, 1/200, 7/1000, 1/40, 867/1000]"
   ]
  },
  {
   "cell_type": "code",
   "execution_count": 51,
   "metadata": {},
   "outputs": [],
   "source": [
    "seird_model = DifferentialEquation(\n",
    "    func=model,\n",
    "    times=np.arange(0, 22, 0.25),\n",
    "    n_states=6,\n",
    "    n_theta=6,\n",
    "    t0=0.0,\n",
    ")"
   ]
  },
  {
   "cell_type": "code",
   "execution_count": 52,
   "metadata": {},
   "outputs": [],
   "source": [
    "tspan = [0, 22]\n",
    "\n",
    "real_data = np.genfromtxt('work/MM4/data.csv', delimiter=',')[1:]\n",
    "data =[]\n",
    "\n",
    "for k in real_data:\n",
    "    if tspan[0] <= k[0] <= tspan[1]:\n",
    "        data.append((k[0], k[1]/pop))"
   ]
  },
  {
   "cell_type": "code",
   "execution_count": 62,
   "metadata": {},
   "outputs": [
    {
     "name": "stderr",
     "output_type": "stream",
     "text": [
      "Auto-assigning NUTS sampler...\n",
      "Initializing NUTS using jitter+adapt_diag...\n",
      "Multiprocess sampling (4 chains in 4 jobs)\n",
      "NUTS: [f, rho, alpha, B0, R0, sigma]\n"
     ]
    },
    {
     "data": {
      "text/html": [
       "\n",
       "    <div>\n",
       "        <style>\n",
       "            /* Turns off some styling */\n",
       "            progress {\n",
       "                /* gets rid of default border in Firefox and Opera. */\n",
       "                border: none;\n",
       "                /* Needs to be in here for Safari polyfill so background images work as expected. */\n",
       "                background-size: auto;\n",
       "            }\n",
       "            .progress-bar-interrupted, .progress-bar-interrupted::-webkit-progress-bar {\n",
       "                background: #F44336;\n",
       "            }\n",
       "        </style>\n",
       "      <progress value='12000' class='' max='12000' style='width:300px; height:20px; vertical-align: middle;'></progress>\n",
       "      100.00% [12000/12000 02:11<00:00 Sampling 4 chains, 11 divergences]\n",
       "    </div>\n",
       "    "
      ],
      "text/plain": [
       "<IPython.core.display.HTML object>"
      ]
     },
     "metadata": {},
     "output_type": "display_data"
    },
    {
     "name": "stderr",
     "output_type": "stream",
     "text": [
      "Sampling 4 chains for 1_000 tune and 2_000 draw iterations (4_000 + 8_000 draws total) took 132 seconds.\n",
      "There were 5 divergences after tuning. Increase `target_accept` or reparameterize.\n",
      "There was 1 divergence after tuning. Increase `target_accept` or reparameterize.\n",
      "There were 5 divergences after tuning. Increase `target_accept` or reparameterize.\n",
      "There were 5 divergences after tuning. Increase `target_accept` or reparameterize.\n",
      "There was 1 divergence after tuning. Increase `target_accept` or reparameterize.\n",
      "There were 5 divergences after tuning. Increase `target_accept` or reparameterize.\n",
      "There were 5 divergences after tuning. Increase `target_accept` or reparameterize.\n",
      "There was 1 divergence after tuning. Increase `target_accept` or reparameterize.\n",
      "There were 5 divergences after tuning. Increase `target_accept` or reparameterize.\n",
      "There were 5 divergences after tuning. Increase `target_accept` or reparameterize.\n",
      "There was 1 divergence after tuning. Increase `target_accept` or reparameterize.\n",
      "There were 5 divergences after tuning. Increase `target_accept` or reparameterize.\n"
     ]
    }
   ],
   "source": [
    "with pm.Model() as model4:\n",
    "    sigma = pm.HalfCauchy('sigma', 1, shape=6)\n",
    "\n",
    "    # Distribuições a priori\n",
    "    # R0 é limitada inferiormente em 1 para sempre termos uma epidemia.\n",
    "    R0 = pm.Bound(pm.Normal, lower=1)('R0', 2, 3)\n",
    "    \n",
    "    B0 = pm.Normal('B0', 2, 3)\n",
    "    Ti = pm.Deterministic('Ti', R0 / B0)\n",
    "    t0 = 0\n",
    "    alpha = pm.Lognormal('alpha', pm.math.log(2), 2)\n",
    "    rho = pm.Lognormal('rho', pm.math.log(2), 2)\n",
    "    f = pm.Lognormal('f', pm.math.log(2), 2)\n",
    "    \n",
    "    seird_curves = seird_model([1 - 1e-6, 0, 1e-6, 0, 0, 0], [B0, Ti, t0, alpha, rho, f])\n",
    "\n",
    "#     Y = pm.Lognormal('Y', mu=pm.math.log(seird_curves), sigma=sigma, observed=data)\n",
    "    db = pm.backends.HDF5('traces.h5') # Salva as amostras e assim evita de manter tudo na memória\n",
    "    trace = pm.sample(2000, tune=1000,trace=db)#, cores=4)"
   ]
  },
  {
   "cell_type": "code",
   "execution_count": null,
   "metadata": {},
   "outputs": [],
   "source": []
  }
 ],
 "metadata": {
  "kernelspec": {
   "display_name": "Python 3",
   "language": "python",
   "name": "python3"
  },
  "language_info": {
   "codemirror_mode": {
    "name": "ipython",
    "version": 3
   },
   "file_extension": ".py",
   "mimetype": "text/x-python",
   "name": "python",
   "nbconvert_exporter": "python",
   "pygments_lexer": "ipython3",
   "version": "3.7.6"
  }
 },
 "nbformat": 4,
 "nbformat_minor": 4
}
